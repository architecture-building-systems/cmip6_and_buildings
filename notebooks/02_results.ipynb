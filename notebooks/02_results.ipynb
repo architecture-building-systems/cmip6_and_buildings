{
 "cells": [
  {
   "cell_type": "code",
   "execution_count": 3,
   "metadata": {},
   "outputs": [],
   "source": [
    "import os \n",
    "import glob\n",
    "import sys\n",
    "import eppy\n",
    "import pandas as pd\n",
    "from eppy.results import readhtml # the eppy module with functions to read the html\n",
    "import pprint"
   ]
  },
  {
   "cell_type": "code",
   "execution_count": 35,
   "metadata": {},
   "outputs": [],
   "source": [
    "\n",
    "pp = pprint.PrettyPrinter()\n",
    "\n",
    "fname = \"/Users/jmccarty/Desktop/RefBldgMediumOfficePre1980_V22-2-0_8A_USA_AK_FAIRBANKS-table.htm\"\n",
    "with open(fname, 'r') as html_doc:\n",
    "    html_doc = html_doc.read()\n",
    "    htables = readhtml.titletable(html_doc) # reads the tables with their titles\n"
   ]
  },
  {
   "cell_type": "code",
   "execution_count": 36,
   "metadata": {},
   "outputs": [],
   "source": [
    "table_dict = {}\n",
    "\n",
    "for table in htables:\n",
    "    table_name = table[0]\n",
    "    table_dict[table[0]] = pd.DataFrame(table[1][1:],columns=table[1][0])\n"
   ]
  },
  {
   "cell_type": "code",
   "execution_count": 37,
   "metadata": {},
   "outputs": [
    {
     "data": {
      "text/html": [
       "<div>\n",
       "<style scoped>\n",
       "    .dataframe tbody tr th:only-of-type {\n",
       "        vertical-align: middle;\n",
       "    }\n",
       "\n",
       "    .dataframe tbody tr th {\n",
       "        vertical-align: top;\n",
       "    }\n",
       "\n",
       "    .dataframe thead th {\n",
       "        text-align: right;\n",
       "    }\n",
       "</style>\n",
       "<table border=\"1\" class=\"dataframe\">\n",
       "  <thead>\n",
       "    <tr style=\"text-align: right;\">\n",
       "      <th></th>\n",
       "      <th></th>\n",
       "      <th>Facility [Hours]</th>\n",
       "    </tr>\n",
       "  </thead>\n",
       "  <tbody>\n",
       "    <tr>\n",
       "      <th>0</th>\n",
       "      <td>Time Setpoint Not Met During Occupied Heating</td>\n",
       "      <td>103.00</td>\n",
       "    </tr>\n",
       "    <tr>\n",
       "      <th>1</th>\n",
       "      <td>Time Setpoint Not Met During Occupied Cooling</td>\n",
       "      <td>20.83</td>\n",
       "    </tr>\n",
       "    <tr>\n",
       "      <th>2</th>\n",
       "      <td>Time Not Comfortable Based on Simple ASHRAE 55...</td>\n",
       "      <td>3631.50</td>\n",
       "    </tr>\n",
       "  </tbody>\n",
       "</table>\n",
       "</div>"
      ],
      "text/plain": [
       "                                                      Facility [Hours]\n",
       "0      Time Setpoint Not Met During Occupied Heating            103.00\n",
       "1      Time Setpoint Not Met During Occupied Cooling             20.83\n",
       "2  Time Not Comfortable Based on Simple ASHRAE 55...           3631.50"
      ]
     },
     "execution_count": 37,
     "metadata": {},
     "output_type": "execute_result"
    }
   ],
   "source": [
    "table_dict['Comfort and Setpoint Not Met Summary']"
   ]
  },
  {
   "cell_type": "code",
   "execution_count": null,
   "metadata": {},
   "outputs": [],
   "source": [
    "tables_of_interest = ['Discomfort-weighted Exceedance OccupiedHours', \n",
    "                      'Comfort and Setpoint Not Met Summary']"
   ]
  }
 ],
 "metadata": {
  "kernelspec": {
   "display_name": "LBT",
   "language": "python",
   "name": "python3"
  },
  "language_info": {
   "codemirror_mode": {
    "name": "ipython",
    "version": 3
   },
   "file_extension": ".py",
   "mimetype": "text/x-python",
   "name": "python",
   "nbconvert_exporter": "python",
   "pygments_lexer": "ipython3",
   "version": "3.8.13"
  },
  "orig_nbformat": 4,
  "vscode": {
   "interpreter": {
    "hash": "b627d637684039ba21c8ca818d908196dc4fef6724760706be784018332fcce1"
   }
  }
 },
 "nbformat": 4,
 "nbformat_minor": 2
}
