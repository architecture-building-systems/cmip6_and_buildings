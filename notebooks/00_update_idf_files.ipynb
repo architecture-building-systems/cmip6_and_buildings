{
 "cells": [
  {
   "cell_type": "code",
   "execution_count": 1,
   "metadata": {},
   "outputs": [],
   "source": [
    "%load_ext autoreload\n",
    "%autoreload 2"
   ]
  },
  {
   "cell_type": "code",
   "execution_count": 19,
   "metadata": {},
   "outputs": [
    {
     "data": {
      "text/plain": [
       "'win32'"
      ]
     },
     "execution_count": 19,
     "metadata": {},
     "output_type": "execute_result"
    }
   ],
   "source": [
    "from multiprocess import Pool\n",
    "import update_idf_v1 as update_idf\n",
    "import sys\n",
    "import os \n",
    "import glob\n",
    "import numpy as np\n",
    "sys.platform"
   ]
  },
  {
   "attachments": {},
   "cell_type": "markdown",
   "metadata": {},
   "source": [
    "# Main Loop"
   ]
  },
  {
   "cell_type": "code",
   "execution_count": 4,
   "metadata": {},
   "outputs": [],
   "source": [
    "if __name__ ==  '__main__': \n",
    "    building_groups = ['pre1980', 'post1980', 'new']\n",
    "    climate_zones = ['3b']#['1a','2a','2b','3a','3b','3bc','3c','4a','4b','4c','5a','5b','6a','6b','7a','8a']\n",
    "    run_updater = False\n",
    "    all_result = []\n",
    "    for bldg_group in building_groups:\n",
    "        input_tuples = list(zip([bldg_group]*len(climate_zones) ,climate_zones, [run_updater]*len(climate_zones)))\n",
    "        num_processors = len(climate_zones)\n",
    "        with Pool(processes = num_processors) as p: \n",
    "            results = p.map_async(update_idf.run_cz_conversion, input_tuples)\n",
    "            p.close()\n",
    "            p.join()\n",
    "            all_result.append(results)\n"
   ]
  },
  {
   "attachments": {},
   "cell_type": "markdown",
   "metadata": {},
   "source": [
    "# Patch Missing"
   ]
  },
  {
   "cell_type": "code",
   "execution_count": 53,
   "metadata": {},
   "outputs": [
    {
     "name": "stdout",
     "output_type": "stream",
     "text": [
      "2\n"
     ]
    }
   ],
   "source": [
    "project_root = r\"C:\\Users\\Justin\\Documents\\GitHub\\cmip6_and_buildings\"\n",
    "\n",
    "pre1980_3b_dir = r\"C:\\Users\\Justin\\Documents\\GitHub\\cmip6_and_buildings\\eplus_simulations\\pre1980\\idf_files\\v7_2\\refbldg_3b_usa_nv_las_vegas_pre1980_v1-4_7-2\"\n",
    "post1980_3b_dir = r\"C:\\Users\\Justin\\Documents\\GitHub\\cmip6_and_buildings\\eplus_simulations\\post1980\\idf_files\\v7_2\\refbldg_3b_usa_nv_las_vegas_post1980_v1-4_7-2\"\n",
    "new_3b_dir = r\"C:\\Users\\Justin\\Documents\\GitHub\\cmip6_and_buildings\\eplus_simulations\\new\\idf_files\\v7_2\\refbldg_3b_usa_nv_las_vegas_new2004_v1-4_7-2\"\n",
    "\n",
    "pre1980_7_2 = glob.glob(os.path.join(pre1980_3b_dir,'*.idf'))\n",
    "post1980_7_2 = glob.glob(os.path.join(post1980_3b_dir,'*.idf'))\n",
    "new_7_2 = glob.glob(os.path.join(new_3b_dir,'*.idf'))\n",
    "idf_patch_list = [pre1980_7_2, post1980_7_2, new_7_2]\n",
    "bldg_group_patch_list = ['pre1980','post1980','new']\n",
    "\n",
    "cz = '3b'\n",
    "run_bool = True\n",
    "patch_inputs = []\n",
    "\n",
    "for n, bldg_group in enumerate(bldg_group_patch_list):\n",
    "    bldg_group_dir = os.path.join(project_root, 'eplus_simulations', bldg_group)\n",
    "    temp_dir = os.path.join(bldg_group_dir,'idf_files','v7_2', f'temp_{cz}')\n",
    "    dest_dir = os.path.join(bldg_group_dir,'idf_files','v22_2',f'{cz}_{bldg_group}_v22_2')\n",
    "    if len(glob.glob(os.path.join(dest_dir,\"*\")))>0:\n",
    "        existing_idfs = glob.glob(os.path.join(dest_dir,\"*\"))\n",
    "    for idf in idf_patch_list[n]:\n",
    "        bldg_type = idf.split(os.sep)[-1].lower().split(bldg_group)[0]\n",
    "        exist_sum_check = [1 for ex in existing_idfs if bldg_type in ex.lower()]\n",
    "        if sum(exist_sum_check)>0:\n",
    "            pass\n",
    "        else:\n",
    "            input_tuple_patch = (run_bool, idf, temp_dir, dest_dir)\n",
    "            patch_inputs.append(input_tuple_patch)\n",
    "            \n",
    "print(len(patch_inputs))\n",
    "        "
   ]
  },
  {
   "cell_type": "code",
   "execution_count": 54,
   "metadata": {},
   "outputs": [],
   "source": [
    "if __name__ ==  '__main__': \n",
    "    num_processors = 2\n",
    "    \n",
    "    chunks = update_idf.chunk_into_n(patch_inputs, num_processors)\n",
    "    \n",
    "    with Pool(processes = num_processors) as p: \n",
    "        results = p.map_async(update_idf.run_cz_conversion_patch, chunks)\n",
    "        p.close()\n",
    "        p.join()\n"
   ]
  },
  {
   "cell_type": "code",
   "execution_count": 51,
   "metadata": {},
   "outputs": [
    {
     "data": {
      "text/plain": [
       "[[(True,\n",
       "   'C:\\\\Users\\\\Justin\\\\Documents\\\\GitHub\\\\cmip6_and_buildings\\\\eplus_simulations\\\\pre1980\\\\idf_files\\\\v7_2\\\\refbldg_3b_usa_nv_las_vegas_pre1980_v1-4_7-2\\\\RefBldgHospitalPre1980_v1.4_7.2_3B_USA_NV_LAS_VEGAS.idf',\n",
       "   'C:\\\\Users\\\\Justin\\\\Documents\\\\GitHub\\\\cmip6_and_buildings\\\\eplus_simulations\\\\pre1980\\\\idf_files\\\\v7_2\\\\temp_3b',\n",
       "   'C:\\\\Users\\\\Justin\\\\Documents\\\\GitHub\\\\cmip6_and_buildings\\\\eplus_simulations\\\\pre1980\\\\idf_files\\\\v22_2\\\\3b_pre1980_v22_2')],\n",
       " [(True,\n",
       "   'C:\\\\Users\\\\Justin\\\\Documents\\\\GitHub\\\\cmip6_and_buildings\\\\eplus_simulations\\\\pre1980\\\\idf_files\\\\v7_2\\\\refbldg_3b_usa_nv_las_vegas_pre1980_v1-4_7-2\\\\RefBldgPrimarySchoolPre1980_v1.4_7.2_3B_USA_NV_LAS_VEGAS.idf',\n",
       "   'C:\\\\Users\\\\Justin\\\\Documents\\\\GitHub\\\\cmip6_and_buildings\\\\eplus_simulations\\\\pre1980\\\\idf_files\\\\v7_2\\\\temp_3b',\n",
       "   'C:\\\\Users\\\\Justin\\\\Documents\\\\GitHub\\\\cmip6_and_buildings\\\\eplus_simulations\\\\pre1980\\\\idf_files\\\\v22_2\\\\3b_pre1980_v22_2')],\n",
       " [(True,\n",
       "   'C:\\\\Users\\\\Justin\\\\Documents\\\\GitHub\\\\cmip6_and_buildings\\\\eplus_simulations\\\\post1980\\\\idf_files\\\\v7_2\\\\refbldg_3b_usa_nv_las_vegas_post1980_v1-4_7-2\\\\RefBldgHospitalPost1980_v1.4_7.2_3B_USA_NV_LAS_VEGAS.idf',\n",
       "   'C:\\\\Users\\\\Justin\\\\Documents\\\\GitHub\\\\cmip6_and_buildings\\\\eplus_simulations\\\\post1980\\\\idf_files\\\\v7_2\\\\temp_3b',\n",
       "   'C:\\\\Users\\\\Justin\\\\Documents\\\\GitHub\\\\cmip6_and_buildings\\\\eplus_simulations\\\\post1980\\\\idf_files\\\\v22_2\\\\3b_post1980_v22_2')],\n",
       " [(True,\n",
       "   'C:\\\\Users\\\\Justin\\\\Documents\\\\GitHub\\\\cmip6_and_buildings\\\\eplus_simulations\\\\post1980\\\\idf_files\\\\v7_2\\\\refbldg_3b_usa_nv_las_vegas_post1980_v1-4_7-2\\\\RefBldgLargeHotelPost1980_v1.4_7.2_3B_USA_NV_LAS_VEGAS.idf',\n",
       "   'C:\\\\Users\\\\Justin\\\\Documents\\\\GitHub\\\\cmip6_and_buildings\\\\eplus_simulations\\\\post1980\\\\idf_files\\\\v7_2\\\\temp_3b',\n",
       "   'C:\\\\Users\\\\Justin\\\\Documents\\\\GitHub\\\\cmip6_and_buildings\\\\eplus_simulations\\\\post1980\\\\idf_files\\\\v22_2\\\\3b_post1980_v22_2')],\n",
       " [(True,\n",
       "   'C:\\\\Users\\\\Justin\\\\Documents\\\\GitHub\\\\cmip6_and_buildings\\\\eplus_simulations\\\\post1980\\\\idf_files\\\\v7_2\\\\refbldg_3b_usa_nv_las_vegas_post1980_v1-4_7-2\\\\RefBldgMidriseApartmentPost1980_v1.4_7.2_3B_USA_NV_LAS_VEGAS.idf',\n",
       "   'C:\\\\Users\\\\Justin\\\\Documents\\\\GitHub\\\\cmip6_and_buildings\\\\eplus_simulations\\\\post1980\\\\idf_files\\\\v7_2\\\\temp_3b',\n",
       "   'C:\\\\Users\\\\Justin\\\\Documents\\\\GitHub\\\\cmip6_and_buildings\\\\eplus_simulations\\\\post1980\\\\idf_files\\\\v22_2\\\\3b_post1980_v22_2')],\n",
       " [(True,\n",
       "   'C:\\\\Users\\\\Justin\\\\Documents\\\\GitHub\\\\cmip6_and_buildings\\\\eplus_simulations\\\\post1980\\\\idf_files\\\\v7_2\\\\refbldg_3b_usa_nv_las_vegas_post1980_v1-4_7-2\\\\RefBldgOutPatientPost1980_v1.4_7.2_3B_USA_NV_LAS_VEGAS.idf',\n",
       "   'C:\\\\Users\\\\Justin\\\\Documents\\\\GitHub\\\\cmip6_and_buildings\\\\eplus_simulations\\\\post1980\\\\idf_files\\\\v7_2\\\\temp_3b',\n",
       "   'C:\\\\Users\\\\Justin\\\\Documents\\\\GitHub\\\\cmip6_and_buildings\\\\eplus_simulations\\\\post1980\\\\idf_files\\\\v22_2\\\\3b_post1980_v22_2')],\n",
       " [(True,\n",
       "   'C:\\\\Users\\\\Justin\\\\Documents\\\\GitHub\\\\cmip6_and_buildings\\\\eplus_simulations\\\\post1980\\\\idf_files\\\\v7_2\\\\refbldg_3b_usa_nv_las_vegas_post1980_v1-4_7-2\\\\RefBldgPrimarySchoolPost1980_v1.4_7.2_3B_USA_NV_LAS_VEGAS.idf',\n",
       "   'C:\\\\Users\\\\Justin\\\\Documents\\\\GitHub\\\\cmip6_and_buildings\\\\eplus_simulations\\\\post1980\\\\idf_files\\\\v7_2\\\\temp_3b',\n",
       "   'C:\\\\Users\\\\Justin\\\\Documents\\\\GitHub\\\\cmip6_and_buildings\\\\eplus_simulations\\\\post1980\\\\idf_files\\\\v22_2\\\\3b_post1980_v22_2')],\n",
       " [(True,\n",
       "   'C:\\\\Users\\\\Justin\\\\Documents\\\\GitHub\\\\cmip6_and_buildings\\\\eplus_simulations\\\\post1980\\\\idf_files\\\\v7_2\\\\refbldg_3b_usa_nv_las_vegas_post1980_v1-4_7-2\\\\RefBldgSecondarySchoolPost1980_v1.4_7.2_3B_USA_NV_LAS_VEGAS.idf',\n",
       "   'C:\\\\Users\\\\Justin\\\\Documents\\\\GitHub\\\\cmip6_and_buildings\\\\eplus_simulations\\\\post1980\\\\idf_files\\\\v7_2\\\\temp_3b',\n",
       "   'C:\\\\Users\\\\Justin\\\\Documents\\\\GitHub\\\\cmip6_and_buildings\\\\eplus_simulations\\\\post1980\\\\idf_files\\\\v22_2\\\\3b_post1980_v22_2')],\n",
       " [(True,\n",
       "   'C:\\\\Users\\\\Justin\\\\Documents\\\\GitHub\\\\cmip6_and_buildings\\\\eplus_simulations\\\\post1980\\\\idf_files\\\\v7_2\\\\refbldg_3b_usa_nv_las_vegas_post1980_v1-4_7-2\\\\RefBldgSmallHotelPost1980_v1.4_7.2_3B_USA_NV_LAS_VEGAS.idf',\n",
       "   'C:\\\\Users\\\\Justin\\\\Documents\\\\GitHub\\\\cmip6_and_buildings\\\\eplus_simulations\\\\post1980\\\\idf_files\\\\v7_2\\\\temp_3b',\n",
       "   'C:\\\\Users\\\\Justin\\\\Documents\\\\GitHub\\\\cmip6_and_buildings\\\\eplus_simulations\\\\post1980\\\\idf_files\\\\v22_2\\\\3b_post1980_v22_2')],\n",
       " [(True,\n",
       "   'C:\\\\Users\\\\Justin\\\\Documents\\\\GitHub\\\\cmip6_and_buildings\\\\eplus_simulations\\\\post1980\\\\idf_files\\\\v7_2\\\\refbldg_3b_usa_nv_las_vegas_post1980_v1-4_7-2\\\\RefBldgStripMallPost1980_v1.4_7.2_3B_USA_NV_LAS_VEGAS.idf',\n",
       "   'C:\\\\Users\\\\Justin\\\\Documents\\\\GitHub\\\\cmip6_and_buildings\\\\eplus_simulations\\\\post1980\\\\idf_files\\\\v7_2\\\\temp_3b',\n",
       "   'C:\\\\Users\\\\Justin\\\\Documents\\\\GitHub\\\\cmip6_and_buildings\\\\eplus_simulations\\\\post1980\\\\idf_files\\\\v22_2\\\\3b_post1980_v22_2')],\n",
       " [(True,\n",
       "   'C:\\\\Users\\\\Justin\\\\Documents\\\\GitHub\\\\cmip6_and_buildings\\\\eplus_simulations\\\\new\\\\idf_files\\\\v7_2\\\\refbldg_3b_usa_nv_las_vegas_new2004_v1-4_7-2\\\\RefBldgLargeHotelNew2004_v1.4_7.2_3B_USA_NV_LAS_VEGAS.idf',\n",
       "   'C:\\\\Users\\\\Justin\\\\Documents\\\\GitHub\\\\cmip6_and_buildings\\\\eplus_simulations\\\\new\\\\idf_files\\\\v7_2\\\\temp_3b',\n",
       "   'C:\\\\Users\\\\Justin\\\\Documents\\\\GitHub\\\\cmip6_and_buildings\\\\eplus_simulations\\\\new\\\\idf_files\\\\v22_2\\\\3b_new_v22_2')],\n",
       " [(True,\n",
       "   'C:\\\\Users\\\\Justin\\\\Documents\\\\GitHub\\\\cmip6_and_buildings\\\\eplus_simulations\\\\new\\\\idf_files\\\\v7_2\\\\refbldg_3b_usa_nv_las_vegas_new2004_v1-4_7-2\\\\RefBldgLargeOfficeNew2004_v1.4_7.2_3B_USA_NV_LAS_VEGAS.idf',\n",
       "   'C:\\\\Users\\\\Justin\\\\Documents\\\\GitHub\\\\cmip6_and_buildings\\\\eplus_simulations\\\\new\\\\idf_files\\\\v7_2\\\\temp_3b',\n",
       "   'C:\\\\Users\\\\Justin\\\\Documents\\\\GitHub\\\\cmip6_and_buildings\\\\eplus_simulations\\\\new\\\\idf_files\\\\v22_2\\\\3b_new_v22_2')],\n",
       " [(True,\n",
       "   'C:\\\\Users\\\\Justin\\\\Documents\\\\GitHub\\\\cmip6_and_buildings\\\\eplus_simulations\\\\new\\\\idf_files\\\\v7_2\\\\refbldg_3b_usa_nv_las_vegas_new2004_v1-4_7-2\\\\RefBldgMidriseApartmentNew2004_v1.4_7.2_3B_USA_NV_LAS_VEGAS.idf',\n",
       "   'C:\\\\Users\\\\Justin\\\\Documents\\\\GitHub\\\\cmip6_and_buildings\\\\eplus_simulations\\\\new\\\\idf_files\\\\v7_2\\\\temp_3b',\n",
       "   'C:\\\\Users\\\\Justin\\\\Documents\\\\GitHub\\\\cmip6_and_buildings\\\\eplus_simulations\\\\new\\\\idf_files\\\\v22_2\\\\3b_new_v22_2')],\n",
       " [(True,\n",
       "   'C:\\\\Users\\\\Justin\\\\Documents\\\\GitHub\\\\cmip6_and_buildings\\\\eplus_simulations\\\\new\\\\idf_files\\\\v7_2\\\\refbldg_3b_usa_nv_las_vegas_new2004_v1-4_7-2\\\\RefBldgOutPatientNew2004_v1.4_7.2_3B_USA_NV_LAS_VEGAS.idf',\n",
       "   'C:\\\\Users\\\\Justin\\\\Documents\\\\GitHub\\\\cmip6_and_buildings\\\\eplus_simulations\\\\new\\\\idf_files\\\\v7_2\\\\temp_3b',\n",
       "   'C:\\\\Users\\\\Justin\\\\Documents\\\\GitHub\\\\cmip6_and_buildings\\\\eplus_simulations\\\\new\\\\idf_files\\\\v22_2\\\\3b_new_v22_2')],\n",
       " [(True,\n",
       "   'C:\\\\Users\\\\Justin\\\\Documents\\\\GitHub\\\\cmip6_and_buildings\\\\eplus_simulations\\\\new\\\\idf_files\\\\v7_2\\\\refbldg_3b_usa_nv_las_vegas_new2004_v1-4_7-2\\\\RefBldgQuickServiceRestaurantNew2004_v1.4_7.2_3B_USA_NV_LAS_VEGAS.idf',\n",
       "   'C:\\\\Users\\\\Justin\\\\Documents\\\\GitHub\\\\cmip6_and_buildings\\\\eplus_simulations\\\\new\\\\idf_files\\\\v7_2\\\\temp_3b',\n",
       "   'C:\\\\Users\\\\Justin\\\\Documents\\\\GitHub\\\\cmip6_and_buildings\\\\eplus_simulations\\\\new\\\\idf_files\\\\v22_2\\\\3b_new_v22_2')],\n",
       " [(True,\n",
       "   'C:\\\\Users\\\\Justin\\\\Documents\\\\GitHub\\\\cmip6_and_buildings\\\\eplus_simulations\\\\new\\\\idf_files\\\\v7_2\\\\refbldg_3b_usa_nv_las_vegas_new2004_v1-4_7-2\\\\RefBldgSecondarySchoolNew2004_v1.4_7.2_3B_USA_NV_LAS_VEGAS.idf',\n",
       "   'C:\\\\Users\\\\Justin\\\\Documents\\\\GitHub\\\\cmip6_and_buildings\\\\eplus_simulations\\\\new\\\\idf_files\\\\v7_2\\\\temp_3b',\n",
       "   'C:\\\\Users\\\\Justin\\\\Documents\\\\GitHub\\\\cmip6_and_buildings\\\\eplus_simulations\\\\new\\\\idf_files\\\\v22_2\\\\3b_new_v22_2')],\n",
       " [(True,\n",
       "   'C:\\\\Users\\\\Justin\\\\Documents\\\\GitHub\\\\cmip6_and_buildings\\\\eplus_simulations\\\\new\\\\idf_files\\\\v7_2\\\\refbldg_3b_usa_nv_las_vegas_new2004_v1-4_7-2\\\\RefBldgSuperMarketNew2004_v1.4_7.2_3B_USA_NV_LAS_VEGAS.idf',\n",
       "   'C:\\\\Users\\\\Justin\\\\Documents\\\\GitHub\\\\cmip6_and_buildings\\\\eplus_simulations\\\\new\\\\idf_files\\\\v7_2\\\\temp_3b',\n",
       "   'C:\\\\Users\\\\Justin\\\\Documents\\\\GitHub\\\\cmip6_and_buildings\\\\eplus_simulations\\\\new\\\\idf_files\\\\v22_2\\\\3b_new_v22_2')],\n",
       " [(True,\n",
       "   'C:\\\\Users\\\\Justin\\\\Documents\\\\GitHub\\\\cmip6_and_buildings\\\\eplus_simulations\\\\new\\\\idf_files\\\\v7_2\\\\refbldg_3b_usa_nv_las_vegas_new2004_v1-4_7-2\\\\RefBldgWarehouseNew2004_v1.4_7.2_3B_USA_NV_LAS_VEGAS.idf',\n",
       "   'C:\\\\Users\\\\Justin\\\\Documents\\\\GitHub\\\\cmip6_and_buildings\\\\eplus_simulations\\\\new\\\\idf_files\\\\v7_2\\\\temp_3b',\n",
       "   'C:\\\\Users\\\\Justin\\\\Documents\\\\GitHub\\\\cmip6_and_buildings\\\\eplus_simulations\\\\new\\\\idf_files\\\\v22_2\\\\3b_new_v22_2')]]"
      ]
     },
     "execution_count": 51,
     "metadata": {},
     "output_type": "execute_result"
    }
   ],
   "source": [
    "chunks"
   ]
  },
  {
   "cell_type": "code",
   "execution_count": 35,
   "metadata": {},
   "outputs": [],
   "source": []
  },
  {
   "cell_type": "code",
   "execution_count": 41,
   "metadata": {},
   "outputs": [
    {
     "data": {
      "text/plain": [
       "[(True,\n",
       "  'C:\\\\Users\\\\Justin\\\\Documents\\\\GitHub\\\\cmip6_and_buildings\\\\eplus_simulations\\\\pre1980\\\\idf_files\\\\v7_2\\\\refbldg_3b_usa_nv_las_vegas_pre1980_v1-4_7-2\\\\RefBldgFullServiceRestaurantPre1980_v1.4_7.2_3B_USA_NV_LAS_VEGAS.idf',\n",
       "  'C:\\\\Users\\\\Justin\\\\Documents\\\\GitHub\\\\cmip6_and_buildings\\\\eplus_simulations\\\\pre1980\\\\idf_files\\\\v7_2\\\\temp_3b',\n",
       "  'C:\\\\Users\\\\Justin\\\\Documents\\\\GitHub\\\\cmip6_and_buildings\\\\eplus_simulations\\\\pre1980\\\\idf_files\\\\v22_2\\\\3b_pre1980_v22_2'),\n",
       " (True,\n",
       "  'C:\\\\Users\\\\Justin\\\\Documents\\\\GitHub\\\\cmip6_and_buildings\\\\eplus_simulations\\\\post1980\\\\idf_files\\\\v7_2\\\\refbldg_3b_usa_nv_las_vegas_post1980_v1-4_7-2\\\\RefBldgMidriseApartmentPost1980_v1.4_7.2_3B_USA_NV_LAS_VEGAS.idf',\n",
       "  'C:\\\\Users\\\\Justin\\\\Documents\\\\GitHub\\\\cmip6_and_buildings\\\\eplus_simulations\\\\post1980\\\\idf_files\\\\v7_2\\\\temp_3b',\n",
       "  'C:\\\\Users\\\\Justin\\\\Documents\\\\GitHub\\\\cmip6_and_buildings\\\\eplus_simulations\\\\post1980\\\\idf_files\\\\v22_2\\\\3b_post1980_v22_2'),\n",
       " (True,\n",
       "  'C:\\\\Users\\\\Justin\\\\Documents\\\\GitHub\\\\cmip6_and_buildings\\\\eplus_simulations\\\\new\\\\idf_files\\\\v7_2\\\\refbldg_3b_usa_nv_las_vegas_new2004_v1-4_7-2\\\\RefBldgWarehouseNew2004_v1.4_7.2_3B_USA_NV_LAS_VEGAS.idf',\n",
       "  'C:\\\\Users\\\\Justin\\\\Documents\\\\GitHub\\\\cmip6_and_buildings\\\\eplus_simulations\\\\new\\\\idf_files\\\\v7_2\\\\temp_3b',\n",
       "  'C:\\\\Users\\\\Justin\\\\Documents\\\\GitHub\\\\cmip6_and_buildings\\\\eplus_simulations\\\\new\\\\idf_files\\\\v22_2\\\\3b_new_v22_2')]"
      ]
     },
     "execution_count": 41,
     "metadata": {},
     "output_type": "execute_result"
    }
   ],
   "source": [
    "chunks[0]"
   ]
  }
 ],
 "metadata": {
  "kernelspec": {
   "display_name": "lbt",
   "language": "python",
   "name": "python3"
  },
  "language_info": {
   "codemirror_mode": {
    "name": "ipython",
    "version": 3
   },
   "file_extension": ".py",
   "mimetype": "text/x-python",
   "name": "python",
   "nbconvert_exporter": "python",
   "pygments_lexer": "ipython3",
   "version": "3.11.3"
  },
  "orig_nbformat": 4
 },
 "nbformat": 4,
 "nbformat_minor": 2
}
