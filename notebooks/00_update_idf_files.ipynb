{
 "cells": [
  {
   "cell_type": "code",
   "execution_count": 1,
   "metadata": {},
   "outputs": [],
   "source": [
    "%load_ext autoreload\n",
    "%autoreload 2"
   ]
  },
  {
   "cell_type": "code",
   "execution_count": 2,
   "metadata": {},
   "outputs": [],
   "source": [
    "from multiprocess import Pool\n",
    "import update_idf_v1 as update_idf"
   ]
  },
  {
   "cell_type": "code",
   "execution_count": 3,
   "metadata": {},
   "outputs": [
    {
     "data": {
      "text/plain": [
       "'win32'"
      ]
     },
     "execution_count": 3,
     "metadata": {},
     "output_type": "execute_result"
    }
   ],
   "source": [
    "import sys\n",
    "sys.platform"
   ]
  },
  {
   "cell_type": "code",
   "execution_count": 27,
   "metadata": {},
   "outputs": [],
   "source": [
    "if __name__ ==  '__main__': \n",
    "    building_groups = ['pre1980', 'post1980', 'new']\n",
    "    climate_zones = ['1a','2a','2b','3a','3b','3bc','3c','4a','4b','4c','5a','5b','6a','6b','7a','8a']\n",
    "    run_updater = True\n",
    "    all_result = []\n",
    "    for bldg_group in building_groups:\n",
    "        input_tuples = list(zip([bldg_group]*len(climate_zones),climate_zones, [run_updater]*len(climate_zones)))\n",
    "        num_processors = len(climate_zones)\n",
    "        with Pool(processes = num_processors) as p: \n",
    "            results = p.map_async(update_idf.run_cz_conversion, input_tuples)\n",
    "            p.close()\n",
    "            p.join()\n",
    "            all_result.append(results)\n"
   ]
  },
  {
   "cell_type": "code",
   "execution_count": 25,
   "metadata": {},
   "outputs": [
    {
     "data": {
      "text/plain": [
       "[[],\n",
       " [],\n",
       " [],\n",
       " [],\n",
       " ['C:\\\\Users\\\\Justin\\\\Documents\\\\GitHub\\\\cmip6_and_buildings\\\\eplus_simulations\\\\new\\\\idf_files\\\\v22_2\\\\3b_new_v22_2\\\\RefBldgFullServiceRestaurantNew2004_V22-2-0_3B_USA_NV_LAS_VEGAS.idf',\n",
       "  'C:\\\\Users\\\\Justin\\\\Documents\\\\GitHub\\\\cmip6_and_buildings\\\\eplus_simulations\\\\new\\\\idf_files\\\\v22_2\\\\3b_new_v22_2\\\\RefBldgHospitalNew2004_V22-2-0_3B_USA_NV_LAS_VEGAS.idf',\n",
       "  'C:\\\\Users\\\\Justin\\\\Documents\\\\GitHub\\\\cmip6_and_buildings\\\\eplus_simulations\\\\new\\\\idf_files\\\\v22_2\\\\3b_new_v22_2\\\\RefBldgLargeHotelNew2004_V22-2-0_3B_USA_NV_LAS_VEGAS.idf',\n",
       "  'C:\\\\Users\\\\Justin\\\\Documents\\\\GitHub\\\\cmip6_and_buildings\\\\eplus_simulations\\\\new\\\\idf_files\\\\v22_2\\\\3b_new_v22_2\\\\RefBldgLargeOfficeNew2004_V22-2-0_3B_USA_NV_LAS_VEGAS.idf',\n",
       "  'C:\\\\Users\\\\Justin\\\\Documents\\\\GitHub\\\\cmip6_and_buildings\\\\eplus_simulations\\\\new\\\\idf_files\\\\v22_2\\\\3b_new_v22_2\\\\RefBldgMediumOfficeNew2004_V22-2-0_3B_USA_NV_LAS_VEGAS.idf',\n",
       "  'C:\\\\Users\\\\Justin\\\\Documents\\\\GitHub\\\\cmip6_and_buildings\\\\eplus_simulations\\\\new\\\\idf_files\\\\v22_2\\\\3b_new_v22_2\\\\RefBldgMidriseApartmentNew2004_V22-2-0_3B_USA_NV_LAS_VEGAS.idf',\n",
       "  'C:\\\\Users\\\\Justin\\\\Documents\\\\GitHub\\\\cmip6_and_buildings\\\\eplus_simulations\\\\new\\\\idf_files\\\\v22_2\\\\3b_new_v22_2\\\\RefBldgOutPatientNew2004_V22-2-0_3B_USA_NV_LAS_VEGAS.idf',\n",
       "  'C:\\\\Users\\\\Justin\\\\Documents\\\\GitHub\\\\cmip6_and_buildings\\\\eplus_simulations\\\\new\\\\idf_files\\\\v22_2\\\\3b_new_v22_2\\\\RefBldgPrimarySchoolNew2004_V22-2-0_3B_USA_NV_LAS_VEGAS.idf',\n",
       "  'C:\\\\Users\\\\Justin\\\\Documents\\\\GitHub\\\\cmip6_and_buildings\\\\eplus_simulations\\\\new\\\\idf_files\\\\v22_2\\\\3b_new_v22_2\\\\RefBldgQuickServiceRestaurantNew2004_V22-2-0_3B_USA_NV_LAS_VEGAS.idf',\n",
       "  'C:\\\\Users\\\\Justin\\\\Documents\\\\GitHub\\\\cmip6_and_buildings\\\\eplus_simulations\\\\new\\\\idf_files\\\\v22_2\\\\3b_new_v22_2\\\\RefBldgSecondarySchoolNew2004_V22-2-0_3B_USA_NV_LAS_VEGAS.idf',\n",
       "  'C:\\\\Users\\\\Justin\\\\Documents\\\\GitHub\\\\cmip6_and_buildings\\\\eplus_simulations\\\\new\\\\idf_files\\\\v22_2\\\\3b_new_v22_2\\\\RefBldgSmallHotelNew2004_V22-2-0_3B_USA_NV_LAS_VEGAS.idf',\n",
       "  'C:\\\\Users\\\\Justin\\\\Documents\\\\GitHub\\\\cmip6_and_buildings\\\\eplus_simulations\\\\new\\\\idf_files\\\\v22_2\\\\3b_new_v22_2\\\\RefBldgSmallOfficeNew2004_V22-2-0_3B_USA_NV_LAS_VEGAS.idf',\n",
       "  'C:\\\\Users\\\\Justin\\\\Documents\\\\GitHub\\\\cmip6_and_buildings\\\\eplus_simulations\\\\new\\\\idf_files\\\\v22_2\\\\3b_new_v22_2\\\\RefBldgStand-aloneRetailNew2004_V22-2-0_3B_USA_NV_LAS_VEGAS.idf',\n",
       "  'C:\\\\Users\\\\Justin\\\\Documents\\\\GitHub\\\\cmip6_and_buildings\\\\eplus_simulations\\\\new\\\\idf_files\\\\v22_2\\\\3b_new_v22_2\\\\RefBldgStripMallNew2004_V22-2-0_3B_USA_NV_LAS_VEGAS.idf',\n",
       "  'C:\\\\Users\\\\Justin\\\\Documents\\\\GitHub\\\\cmip6_and_buildings\\\\eplus_simulations\\\\new\\\\idf_files\\\\v22_2\\\\3b_new_v22_2\\\\RefBldgSuperMarketNew2004_V22-2-0_3B_USA_NV_LAS_VEGAS.idf',\n",
       "  'C:\\\\Users\\\\Justin\\\\Documents\\\\GitHub\\\\cmip6_and_buildings\\\\eplus_simulations\\\\new\\\\idf_files\\\\v22_2\\\\3b_new_v22_2\\\\RefBldgWarehouseNew2004_V22-2-0_3B_USA_NV_LAS_VEGAS.idf'],\n",
       " ['C:\\\\Users\\\\Justin\\\\Documents\\\\GitHub\\\\cmip6_and_buildings\\\\eplus_simulations\\\\new\\\\idf_files\\\\v22_2\\\\3bc_new_v22_2\\\\RefBldgFullServiceRestaurantNew2004_V22-2-0_3B_USA_CA_LOS_ANGELES.idf',\n",
       "  'C:\\\\Users\\\\Justin\\\\Documents\\\\GitHub\\\\cmip6_and_buildings\\\\eplus_simulations\\\\new\\\\idf_files\\\\v22_2\\\\3bc_new_v22_2\\\\RefBldgHospitalNew2004_V22-2-0_3B_USA_CA_LOS_ANGELES.idf',\n",
       "  'C:\\\\Users\\\\Justin\\\\Documents\\\\GitHub\\\\cmip6_and_buildings\\\\eplus_simulations\\\\new\\\\idf_files\\\\v22_2\\\\3bc_new_v22_2\\\\RefBldgLargeHotelNew2004_V22-2-0_3B_USA_CA_LOS_ANGELES.idf',\n",
       "  'C:\\\\Users\\\\Justin\\\\Documents\\\\GitHub\\\\cmip6_and_buildings\\\\eplus_simulations\\\\new\\\\idf_files\\\\v22_2\\\\3bc_new_v22_2\\\\RefBldgLargeOfficeNew2004_V22-2-0_3B_USA_CA_LOS_ANGELES.idf',\n",
       "  'C:\\\\Users\\\\Justin\\\\Documents\\\\GitHub\\\\cmip6_and_buildings\\\\eplus_simulations\\\\new\\\\idf_files\\\\v22_2\\\\3bc_new_v22_2\\\\RefBldgMediumOfficeNew2004_V22-2-0_3B_USA_CA_LOS_ANGELES.idf',\n",
       "  'C:\\\\Users\\\\Justin\\\\Documents\\\\GitHub\\\\cmip6_and_buildings\\\\eplus_simulations\\\\new\\\\idf_files\\\\v22_2\\\\3bc_new_v22_2\\\\RefBldgMidriseApartmentNew2004_V22-2-0_3B_USA_CA_LOS_ANGELES.idf',\n",
       "  'C:\\\\Users\\\\Justin\\\\Documents\\\\GitHub\\\\cmip6_and_buildings\\\\eplus_simulations\\\\new\\\\idf_files\\\\v22_2\\\\3bc_new_v22_2\\\\RefBldgOutPatientNew2004_V22-2-0_3B_USA_CA_LOS_ANGELES.idf',\n",
       "  'C:\\\\Users\\\\Justin\\\\Documents\\\\GitHub\\\\cmip6_and_buildings\\\\eplus_simulations\\\\new\\\\idf_files\\\\v22_2\\\\3bc_new_v22_2\\\\RefBldgPrimarySchoolNew2004_V22-2-0_3B_USA_CA_LOS_ANGELES.idf',\n",
       "  'C:\\\\Users\\\\Justin\\\\Documents\\\\GitHub\\\\cmip6_and_buildings\\\\eplus_simulations\\\\new\\\\idf_files\\\\v22_2\\\\3bc_new_v22_2\\\\RefBldgQuickServiceRestaurantNew2004_V22-2-0_3B_USA_CA_LOS_ANGELES.idf',\n",
       "  'C:\\\\Users\\\\Justin\\\\Documents\\\\GitHub\\\\cmip6_and_buildings\\\\eplus_simulations\\\\new\\\\idf_files\\\\v22_2\\\\3bc_new_v22_2\\\\RefBldgSecondarySchoolNew2004_V22-2-0_3B_USA_CA_LOS_ANGELES.idf',\n",
       "  'C:\\\\Users\\\\Justin\\\\Documents\\\\GitHub\\\\cmip6_and_buildings\\\\eplus_simulations\\\\new\\\\idf_files\\\\v22_2\\\\3bc_new_v22_2\\\\RefBldgSmallHotelNew2004_V22-2-0_3B_USA_CA_LOS_ANGELES.idf',\n",
       "  'C:\\\\Users\\\\Justin\\\\Documents\\\\GitHub\\\\cmip6_and_buildings\\\\eplus_simulations\\\\new\\\\idf_files\\\\v22_2\\\\3bc_new_v22_2\\\\RefBldgSmallOfficeNew2004_V22-2-0_3B_USA_CA_LOS_ANGELES.idf',\n",
       "  'C:\\\\Users\\\\Justin\\\\Documents\\\\GitHub\\\\cmip6_and_buildings\\\\eplus_simulations\\\\new\\\\idf_files\\\\v22_2\\\\3bc_new_v22_2\\\\RefBldgStand-aloneRetailNew2004_V22-2-0_3B_USA_CA_LOS_ANGELES.idf',\n",
       "  'C:\\\\Users\\\\Justin\\\\Documents\\\\GitHub\\\\cmip6_and_buildings\\\\eplus_simulations\\\\new\\\\idf_files\\\\v22_2\\\\3bc_new_v22_2\\\\RefBldgStripMallNew2004_V22-2-0_3B_USA_CA_LOS_ANGELES.idf',\n",
       "  'C:\\\\Users\\\\Justin\\\\Documents\\\\GitHub\\\\cmip6_and_buildings\\\\eplus_simulations\\\\new\\\\idf_files\\\\v22_2\\\\3bc_new_v22_2\\\\RefBldgSuperMarketNew2004_V22-2-0_3B_USA_CA_LOS_ANGELES.idf',\n",
       "  'C:\\\\Users\\\\Justin\\\\Documents\\\\GitHub\\\\cmip6_and_buildings\\\\eplus_simulations\\\\new\\\\idf_files\\\\v22_2\\\\3bc_new_v22_2\\\\RefBldgWarehouseNew2004_V22-2-0_3B_USA_CA_LOS_ANGELES.idf'],\n",
       " [],\n",
       " [],\n",
       " [],\n",
       " [],\n",
       " [],\n",
       " [],\n",
       " [],\n",
       " [],\n",
       " [],\n",
       " []]"
      ]
     },
     "execution_count": 25,
     "metadata": {},
     "output_type": "execute_result"
    }
   ],
   "source": [
    "all_result[2].get()"
   ]
  }
 ],
 "metadata": {
  "kernelspec": {
   "display_name": "lbt",
   "language": "python",
   "name": "python3"
  },
  "language_info": {
   "codemirror_mode": {
    "name": "ipython",
    "version": 3
   },
   "file_extension": ".py",
   "mimetype": "text/x-python",
   "name": "python",
   "nbconvert_exporter": "python",
   "pygments_lexer": "ipython3",
   "version": "3.11.3"
  },
  "orig_nbformat": 4
 },
 "nbformat": 4,
 "nbformat_minor": 2
}
