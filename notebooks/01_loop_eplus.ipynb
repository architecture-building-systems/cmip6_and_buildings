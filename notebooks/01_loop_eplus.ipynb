{
 "cells": [
  {
   "cell_type": "code",
   "execution_count": 1,
   "metadata": {},
   "outputs": [],
   "source": [
    "%load_ext autoreload\n",
    "%autoreload 2"
   ]
  },
  {
   "cell_type": "code",
   "execution_count": 78,
   "metadata": {},
   "outputs": [],
   "source": [
    "import os\n",
    "import glob\n",
    "from honeybee_energy import run as hbe\n",
    "from eppy.modeleditor import IDF\n",
    "import sys\n",
    "iddfile = \"/Applications/EnergyPlus-22-2-0/Energy+.idd\"\n",
    "IDF.setiddname(iddfile)"
   ]
  },
  {
   "cell_type": "code",
   "execution_count": 79,
   "metadata": {},
   "outputs": [
    {
     "data": {
      "text/plain": [
       "'darwin'"
      ]
     },
     "execution_count": 79,
     "metadata": {},
     "output_type": "execute_result"
    }
   ],
   "source": []
  },
  {
   "cell_type": "code",
   "execution_count": 3,
   "metadata": {},
   "outputs": [],
   "source": [
    "vintage = 'pre1980'\n",
    "cz = '1a'"
   ]
  },
  {
   "cell_type": "code",
   "execution_count": 23,
   "metadata": {},
   "outputs": [],
   "source": [
    "project_root = '/Users/jmccarty/GitHub/cmip6_and_buildings'\n",
    "# idf_dir = glob.glob(os.path.join(project_root,'eplus_simulations',vintage,'idf_files','v22_2',f'{cz}*'))[0]\n",
    "idf_path = \"/Users/jmccarty/Desktop/test_idf_run/test_idf.idf\"\n",
    "epw = glob.glob(os.path.join(project_root,'weather_files','tmy3',f'{cz}*'))[0]\n",
    "# hbe.run_idf(idf_file_path=idf, epw_file_path=epw, )\n",
    "\n"
   ]
  },
  {
   "cell_type": "code",
   "execution_count": 38,
   "metadata": {},
   "outputs": [
    {
     "data": {
      "text/plain": [
       "['/Users/jmccarty/GitHub/cmip6_and_buildings/',\n",
       " '/pre1980/idf_files/v22_2/1a_pre1980_v22_2/RefBldgFullServiceRestaurantPre1980_V22-2-0_1A_USA_FL_MIAMI.idf']"
      ]
     },
     "execution_count": 38,
     "metadata": {},
     "output_type": "execute_result"
    }
   ],
   "source": []
  },
  {
   "cell_type": "code",
   "execution_count": 46,
   "metadata": {},
   "outputs": [
    {
     "data": {
      "text/plain": [
       "{'project_root': '/Users/jmccarty/GitHub/cmip6_and_buildings/',\n",
       " 'vintage': 'pre1980',\n",
       " 'version': 'v22_2',\n",
       " 'building_type': 'RefBldgFullServiceRestaurantPre1980',\n",
       " 'climate_zone': '1a'}"
      ]
     },
     "execution_count": 46,
     "metadata": {},
     "output_type": "execute_result"
    }
   ],
   "source": [
    "idf_file = \"/Users/jmccarty/GitHub/cmip6_and_buildings/eplus_simulations/pre1980/idf_files/v22_2/1a_pre1980_v22_2/RefBldgFullServiceRestaurantPre1980_V22-2-0_1A_USA_FL_MIAMI.idf\"\n",
    "\n",
    "def decomponse_idf_filename(idf_file):\n",
    "    sim_dir_split = idf_file.split(\"eplus_simulations\")\n",
    "    file_segments = sim_dir_split[1].split(os.sep)\n",
    "    idf_segments = file_segments[-1].split(\"_\")\n",
    "\n",
    "    return {'project_root': sim_dir_split[0],\n",
    "            'vintage': file_segments[1],\n",
    "            'version': file_segments[3],\n",
    "            'building_type': idf_segments[0],\n",
    "            'climate_zone': idf_segments[2].lower()}\n",
    "    \n",
    "decomponse_idf_filename(idf_file)"
   ]
  },
  {
   "cell_type": "code",
   "execution_count": 36,
   "metadata": {},
   "outputs": [
    {
     "data": {
      "text/plain": [
       "['',\n",
       " 'Users',\n",
       " 'jmccarty',\n",
       " 'GitHub',\n",
       " 'cmip6_and_buildings',\n",
       " 'eplus_simulations',\n",
       " 'pre1980',\n",
       " 'idf_files',\n",
       " 'v22_2',\n",
       " '1a_pre1980_v22_2']"
      ]
     },
     "execution_count": 36,
     "metadata": {},
     "output_type": "execute_result"
    }
   ],
   "source": [
    "a = glob.glob(os.path.join(project_root,'eplus_simulations',vintage,'idf_files','v22_2',f'{cz}*'))[0]\n",
    "# os.path.dirname(a)\n",
    "idf_fname = glob.glob(os.path.join(a,'*.idf'))[0]\n",
    "cz_dir = os.path.dirname(idf_fname).split(os.sep)[-1]"
   ]
  },
  {
   "cell_type": "code",
   "execution_count": 57,
   "metadata": {},
   "outputs": [],
   "source": [
    "\n",
    "def decompose_idf_filename(idf_file):\n",
    "    sim_dir_split = idf_file.split(\"eplus_simulations\")\n",
    "    file_segments = sim_dir_split[1].split(os.sep)\n",
    "    idf_segments = file_segments[-1].split(\"_\")\n",
    "\n",
    "    details = {'project_root': sim_dir_split[0],\n",
    "            'vintage': file_segments[1],\n",
    "            'version': file_segments[3],\n",
    "            'building_type': idf_segments[0],\n",
    "            'climate_zone': idf_segments[2].lower()\n",
    "            }\n",
    "    return details\n",
    "\n",
    "\n",
    "def create_results_dir(idf):\n",
    "    fname = idf.idfname\n",
    "    idf_details = decompose_idf_filename(fname)\n",
    "\n",
    "    results_pardir = os.path.join(idf_details['project_root'],\n",
    "                                  'eplus_simulations',\n",
    "                                  idf_details['vintage'],\n",
    "                                  idf_details['version'],\n",
    "                                  idf_details['climate_zone']\n",
    "                                  )\n",
    "    # check_dir_create(results_pardir)\n",
    "\n",
    "    results_dir = os.path.join(results_pardir, idf_details['building_type'])\n",
    "    # check_dir_create(results_dir)\n",
    "\n",
    "    return results_dir"
   ]
  },
  {
   "cell_type": "code",
   "execution_count": 56,
   "metadata": {},
   "outputs": [
    {
     "name": "stdout",
     "output_type": "stream",
     "text": [
      "/Users/jmccarty/Desktop/test_idf.idf\n"
     ]
    },
    {
     "ename": "KeyError",
     "evalue": "'vintage'",
     "output_type": "error",
     "traceback": [
      "\u001b[0;31m---------------------------------------------------------------------------\u001b[0m",
      "\u001b[0;31mKeyError\u001b[0m                                  Traceback (most recent call last)",
      "\u001b[1;32m/Users/jmccarty/GitHub/cmip6_and_buildings/notebooks/01_loop_eplus.ipynb Cell 8\u001b[0m in \u001b[0;36m<cell line: 1>\u001b[0;34m()\u001b[0m\n\u001b[0;32m----> <a href='vscode-notebook-cell:/Users/jmccarty/GitHub/cmip6_and_buildings/notebooks/01_loop_eplus.ipynb#X14sZmlsZQ%3D%3D?line=0'>1</a>\u001b[0m create_results_dir(idf)\n",
      "\u001b[1;32m/Users/jmccarty/GitHub/cmip6_and_buildings/notebooks/01_loop_eplus.ipynb Cell 8\u001b[0m in \u001b[0;36mcreate_results_dir\u001b[0;34m(idf)\u001b[0m\n\u001b[1;32m     <a href='vscode-notebook-cell:/Users/jmccarty/GitHub/cmip6_and_buildings/notebooks/01_loop_eplus.ipynb#X14sZmlsZQ%3D%3D?line=16'>17</a>\u001b[0m \u001b[39mprint\u001b[39m(fname)\n\u001b[1;32m     <a href='vscode-notebook-cell:/Users/jmccarty/GitHub/cmip6_and_buildings/notebooks/01_loop_eplus.ipynb#X14sZmlsZQ%3D%3D?line=17'>18</a>\u001b[0m idf_details \u001b[39m=\u001b[39m decompose_idf_filename(fname)\n\u001b[1;32m     <a href='vscode-notebook-cell:/Users/jmccarty/GitHub/cmip6_and_buildings/notebooks/01_loop_eplus.ipynb#X14sZmlsZQ%3D%3D?line=19'>20</a>\u001b[0m results_pardir \u001b[39m=\u001b[39m os\u001b[39m.\u001b[39mpath\u001b[39m.\u001b[39mjoin(idf_details[\u001b[39m'\u001b[39m\u001b[39mproject_root\u001b[39m\u001b[39m'\u001b[39m],\n\u001b[1;32m     <a href='vscode-notebook-cell:/Users/jmccarty/GitHub/cmip6_and_buildings/notebooks/01_loop_eplus.ipynb#X14sZmlsZQ%3D%3D?line=20'>21</a>\u001b[0m                               \u001b[39m'\u001b[39m\u001b[39meplus_simulations\u001b[39m\u001b[39m'\u001b[39m,\n\u001b[0;32m---> <a href='vscode-notebook-cell:/Users/jmccarty/GitHub/cmip6_and_buildings/notebooks/01_loop_eplus.ipynb#X14sZmlsZQ%3D%3D?line=21'>22</a>\u001b[0m                               idf_details[\u001b[39m'\u001b[39;49m\u001b[39mvintage\u001b[39;49m\u001b[39m'\u001b[39;49m],\n\u001b[1;32m     <a href='vscode-notebook-cell:/Users/jmccarty/GitHub/cmip6_and_buildings/notebooks/01_loop_eplus.ipynb#X14sZmlsZQ%3D%3D?line=22'>23</a>\u001b[0m                               idf_details[\u001b[39m'\u001b[39m\u001b[39mversion\u001b[39m\u001b[39m'\u001b[39m],\n\u001b[1;32m     <a href='vscode-notebook-cell:/Users/jmccarty/GitHub/cmip6_and_buildings/notebooks/01_loop_eplus.ipynb#X14sZmlsZQ%3D%3D?line=23'>24</a>\u001b[0m                               idf_details[\u001b[39m'\u001b[39m\u001b[39mclimate_zone\u001b[39m\u001b[39m'\u001b[39m]\n\u001b[1;32m     <a href='vscode-notebook-cell:/Users/jmccarty/GitHub/cmip6_and_buildings/notebooks/01_loop_eplus.ipynb#X14sZmlsZQ%3D%3D?line=24'>25</a>\u001b[0m                               )\n\u001b[1;32m     <a href='vscode-notebook-cell:/Users/jmccarty/GitHub/cmip6_and_buildings/notebooks/01_loop_eplus.ipynb#X14sZmlsZQ%3D%3D?line=25'>26</a>\u001b[0m \u001b[39m# check_dir_create(results_pardir)\u001b[39;00m\n\u001b[1;32m     <a href='vscode-notebook-cell:/Users/jmccarty/GitHub/cmip6_and_buildings/notebooks/01_loop_eplus.ipynb#X14sZmlsZQ%3D%3D?line=27'>28</a>\u001b[0m results_dir \u001b[39m=\u001b[39m os\u001b[39m.\u001b[39mpath\u001b[39m.\u001b[39mjoin(results_pardir, idf_details[\u001b[39m'\u001b[39m\u001b[39mbuilding_type\u001b[39m\u001b[39m'\u001b[39m])\n",
      "\u001b[0;31mKeyError\u001b[0m: 'vintage'"
     ]
    }
   ],
   "source": [
    "create_results_dir(idf)"
   ]
  },
  {
   "cell_type": "code",
   "execution_count": null,
   "metadata": {},
   "outputs": [],
   "source": [
    "def get_year_bands(year, formatted=True):\n",
    "    if formatted:\n",
    "        year_bands = f'{year-15}-{year+15}'\n",
    "    else:\n",
    "        year_bands = (year-15, year+15)\n",
    "    return year_bands\n",
    "\n",
    "def get_epw_name(idf_fname, scenario, year, ptile=50):\n",
    "    idf_details = decompose_idf_filename(idf_path)\n",
    "    project_root = idf_details['project_root']\n",
    "    cz = idf_details['climate_zone']\n",
    "    \n",
    "    \n",
    "    if scenario=='historical':\n",
    "        epw_path = glob.glob(os.path.join(project_root,'weather_files','tmy3',f'{cz}*.epw'))[0]\n",
    "    else:\n",
    "        year_bands = get_year_bands(year, formatted=True)\n",
    "        epw_path = os.path.join(project_root,'weather_files','morphed',cz,scenario,'EPWs',f'{scenario}_{ptile}_{year_bands}.epw')\n",
    "    return epw_path\n",
    "\n",
    "scenarios = ['historical', 'ssp126', 'ssp245', 'ssp585']\n",
    "years = [2020, 2035, 2050, 2065, 2080]\n",
    "for scenario in scenarios:\n",
    "    for year in years:\n",
    "        if scenario=='historical':\n",
    "            year = 2020\n",
    "        else:\n",
    "            if year==2020:\n",
    "                continue\n",
    "        epw_path = get_epw_name(idf_path, scenario, year)\n",
    "        print(epw_path, os.path.exists(epw_path))\n",
    "\n"
   ]
  },
  {
   "cell_type": "code",
   "execution_count": 97,
   "metadata": {},
   "outputs": [
    {
     "data": {
      "text/plain": [
       "768"
      ]
     },
     "execution_count": 97,
     "metadata": {},
     "output_type": "execute_result"
    }
   ],
   "source": [
    "project_root = \"/Users/jmccarty/GitHub/cmip6_and_buildings\"\n",
    "vintages = ['pre1980','post1980', 'new']\n",
    "\n",
    "def load_idf_list(vintages):\n",
    "    all_idf = []\n",
    "    for vintage in vintages:\n",
    "        for par_dir in glob.glob(os.path.join(project_root, 'eplus_simulations', vintage, 'idf_files', 'v22_2','*v22_2')):\n",
    "            idf_files = glob.glob(os.path.join(par_dir,'*.idf'))\n",
    "            all_idf.append(idf_files)\n",
    "    \n",
    "    return [item for sublist in all_idf for item in sublist]\n"
   ]
  },
  {
   "cell_type": "code",
   "execution_count": 58,
   "metadata": {},
   "outputs": [
    {
     "data": {
      "text/plain": [
       "{'ep_version': '22-2-0',\n",
       " 'output_prefix': 'RefBldgPrimarySchoolPost1980_V22-2-0_3A_USA_GA_ATLANTA',\n",
       " 'output_suffix': 'C',\n",
       " 'output_directory': '/Users/jmccarty/GitHub/cmip6_and_buildings/eplus_simulations/post1980/v22_2/3a/RefBldgPrimarySchoolPost1980',\n",
       " 'readvars': True,\n",
       " 'expandobjects': True}"
      ]
     },
     "execution_count": 58,
     "metadata": {},
     "output_type": "execute_result"
    }
   ],
   "source": [
    "idf_path = \"/Users/jmccarty/GitHub/cmip6_and_buildings/eplus_simulations/post1980/idf_files/v22_2/3a_post1980_v22_2/RefBldgPrimarySchoolPost1980_V22-2-0_3A_USA_GA_ATLANTA.idf\"\n",
    "\n",
    "idf = IDF(idf_path, epw)\n",
    "\n",
    "idfversion = idf.idfobjects['version'][0].Version_Identifier.split('.')\n",
    "idfversion.extend([0] * (3 - len(idfversion)))\n",
    "idfversionstr = '-'.join([str(item) for item in idfversion])\n",
    "fname = idf.idfname\n",
    "options = {\n",
    "    'ep_version': idfversionstr,  # runIDFs needs the version number\n",
    "    'output_prefix': os.path.basename(fname).split('.')[0],\n",
    "    'output_suffix': 'D',\n",
    "    'output_directory': create_results_dir(idf),\n",
    "    'readvars': True,\n",
    "    'expandobjects': True\n",
    "}\n",
    "options"
   ]
  },
  {
   "cell_type": "code",
   "execution_count": 29,
   "metadata": {},
   "outputs": [
    {
     "name": "stdout",
     "output_type": "stream",
     "text": [
      "\n",
      "/Applications/EnergyPlus-22-2-0/energyplus --weather /Users/jmccarty/GitHub/cmip6_and_buildings/weather_files/tmy3/1a_USA_FL_Miami_Intl.epw --output-directory /Users/jmccarty/Desktop/test_idf_run/results --idd /Applications/EnergyPlus-22-2-0/Energy+.idd /Users/jmccarty/Desktop/test_idf_run/test_idf_79cceb.idf\n",
      "\n",
      "EnergyPlus Starting\n",
      "EnergyPlus, Version 22.2.0-c249759bad, YMD=2023.05.04 10:43\n",
      "Initializing Response Factors\n",
      "Calculating CTFs for \"STEEL FRAME RES EXT WALL\"\n",
      "Calculating CTFs for \"IEAD RES ROOF\"\n",
      "Calculating CTFs for \"EXT-SLAB\"\n",
      "Calculating CTFs for \"INT-WALLS\"\n",
      "Calculating CTFs for \"INT-FLOOR-TOPSIDE\"\n",
      "Calculating CTFs for \"INTERIORFURNISHINGS\"\n",
      "Initializing Window Optical Properties\n",
      "Initializing Solar Calculations\n",
      "Allocate Solar Module Arrays\n",
      "Initializing Zone and Enclosure Report Variables\n",
      "Initializing Surface (Shading) Report Variables\n",
      "Determining Shadowing Combinations\n",
      "Computing Window Shade Absorption Factors\n",
      "Proceeding with Initializing Solar Calculations\n",
      "Initializing Surfaces\n",
      "Initializing Outdoor environment for Surfaces\n",
      "Setting up Surface Reporting Variables\n",
      "Initializing Temperature and Flux Histories\n",
      "Initializing Window Shading\n",
      "Computing Interior Absorption Factors\n",
      "Computing Interior Diffuse Solar Absorption Factors\n",
      "Initializing Solar Heat Gains\n",
      "Initializing Internal Heat Gains\n",
      "Initializing Interior Solar Distribution\n",
      "Initializing Interior Convection Coefficients\n",
      "Gathering Information for Predefined Reporting\n",
      "Completed Initializing Surface Heat Balance\n",
      "Calculate Outside Surface Heat Balance\n",
      "Calculate Inside Surface Heat Balance\n",
      "Calculate Air Heat Balance\n",
      "Initializing HVAC\n",
      "Warming up\n",
      "Warming up\n",
      "Warming up\n",
      "Warming up\n",
      "Warming up\n",
      "Warming up\n",
      "Performing Zone Sizing Simulation\n",
      "...for Sizing Period: #1 MIAMI ANN HTG 99.6% CONDNS DB\n",
      "Warming up\n",
      "Warming up\n",
      "Warming up\n",
      "Warming up\n",
      "Warming up\n",
      "Warming up\n",
      "Performing Zone Sizing Simulation\n",
      "...for Sizing Period: #2 MIAMI ANN CLG .4% CONDNS WB=>MDB\n",
      "Calculating System sizing\n",
      "...for Sizing Period: #1 MIAMI ANN HTG 99.6% CONDNS DB\n",
      "Calculating System sizing\n",
      "...for Sizing Period: #2 MIAMI ANN CLG .4% CONDNS WB=>MDB\n",
      "Adjusting Air System Sizing\n",
      "Adjusting Standard 62.1 Ventilation Sizing\n",
      "Initializing Simulation\n",
      "Reporting Surfaces\n",
      "Beginning Primary Simulation\n",
      "Initializing New Environment Parameters\n",
      "Warming up {1}\n",
      "Warming up {2}\n",
      "Warming up {3}\n",
      "Warming up {4}\n",
      "Warming up {5}\n",
      "Warming up {6}\n",
      "Warming up {7}\n",
      "Starting Simulation at 01/01/2017 for RUNPERIOD 1\n",
      "Updating Shadowing Calculations, Start Date=01/08/2017\n",
      "Continuing Simulation at 01/08/2017 for RUNPERIOD 1\n",
      "Updating Shadowing Calculations, Start Date=01/15/2017\n",
      "Continuing Simulation at 01/15/2017 for RUNPERIOD 1\n",
      "Updating Shadowing Calculations, Start Date=01/22/2017\n",
      "Continuing Simulation at 01/22/2017 for RUNPERIOD 1\n",
      "Updating Shadowing Calculations, Start Date=01/29/2017\n",
      "Continuing Simulation at 01/29/2017 for RUNPERIOD 1\n",
      "Updating Shadowing Calculations, Start Date=02/05/2017\n",
      "Continuing Simulation at 02/05/2017 for RUNPERIOD 1\n",
      "Updating Shadowing Calculations, Start Date=02/12/2017\n",
      "Continuing Simulation at 02/12/2017 for RUNPERIOD 1\n",
      "Updating Shadowing Calculations, Start Date=02/19/2017\n",
      "Continuing Simulation at 02/19/2017 for RUNPERIOD 1\n",
      "Updating Shadowing Calculations, Start Date=02/26/2017\n",
      "Continuing Simulation at 02/26/2017 for RUNPERIOD 1\n",
      "Updating Shadowing Calculations, Start Date=03/05/2017\n",
      "Continuing Simulation at 03/05/2017 for RUNPERIOD 1\n",
      "Updating Shadowing Calculations, Start Date=03/12/2017\n",
      "Continuing Simulation at 03/12/2017 for RUNPERIOD 1\n",
      "Updating Shadowing Calculations, Start Date=03/19/2017\n",
      "Continuing Simulation at 03/19/2017 for RUNPERIOD 1\n",
      "Updating Shadowing Calculations, Start Date=03/26/2017\n",
      "Continuing Simulation at 03/26/2017 for RUNPERIOD 1\n",
      "Updating Shadowing Calculations, Start Date=04/02/2017\n",
      "Continuing Simulation at 04/02/2017 for RUNPERIOD 1\n",
      "Updating Shadowing Calculations, Start Date=04/09/2017\n",
      "Continuing Simulation at 04/09/2017 for RUNPERIOD 1\n",
      "Updating Shadowing Calculations, Start Date=04/16/2017\n",
      "Continuing Simulation at 04/16/2017 for RUNPERIOD 1\n",
      "Updating Shadowing Calculations, Start Date=04/23/2017\n",
      "Continuing Simulation at 04/23/2017 for RUNPERIOD 1\n",
      "Updating Shadowing Calculations, Start Date=04/30/2017\n",
      "Continuing Simulation at 04/30/2017 for RUNPERIOD 1\n",
      "Updating Shadowing Calculations, Start Date=05/07/2017\n",
      "Continuing Simulation at 05/07/2017 for RUNPERIOD 1\n",
      "Updating Shadowing Calculations, Start Date=05/14/2017\n",
      "Continuing Simulation at 05/14/2017 for RUNPERIOD 1\n",
      "Updating Shadowing Calculations, Start Date=05/21/2017\n",
      "Continuing Simulation at 05/21/2017 for RUNPERIOD 1\n",
      "Updating Shadowing Calculations, Start Date=05/28/2017\n",
      "Continuing Simulation at 05/28/2017 for RUNPERIOD 1\n",
      "Updating Shadowing Calculations, Start Date=06/04/2017\n",
      "Continuing Simulation at 06/04/2017 for RUNPERIOD 1\n",
      "Updating Shadowing Calculations, Start Date=06/11/2017\n",
      "Continuing Simulation at 06/11/2017 for RUNPERIOD 1\n",
      "Updating Shadowing Calculations, Start Date=06/18/2017\n",
      "Continuing Simulation at 06/18/2017 for RUNPERIOD 1\n",
      "Updating Shadowing Calculations, Start Date=06/25/2017\n",
      "Continuing Simulation at 06/25/2017 for RUNPERIOD 1\n",
      "Updating Shadowing Calculations, Start Date=07/02/2017\n",
      "Continuing Simulation at 07/02/2017 for RUNPERIOD 1\n",
      "Updating Shadowing Calculations, Start Date=07/09/2017\n",
      "Continuing Simulation at 07/09/2017 for RUNPERIOD 1\n",
      "Updating Shadowing Calculations, Start Date=07/16/2017\n",
      "Continuing Simulation at 07/16/2017 for RUNPERIOD 1\n",
      "Updating Shadowing Calculations, Start Date=07/23/2017\n",
      "Continuing Simulation at 07/23/2017 for RUNPERIOD 1\n",
      "Updating Shadowing Calculations, Start Date=07/30/2017\n",
      "Continuing Simulation at 07/30/2017 for RUNPERIOD 1\n",
      "Updating Shadowing Calculations, Start Date=08/06/2017\n",
      "Continuing Simulation at 08/06/2017 for RUNPERIOD 1\n",
      "Updating Shadowing Calculations, Start Date=08/13/2017\n",
      "Continuing Simulation at 08/13/2017 for RUNPERIOD 1\n",
      "Updating Shadowing Calculations, Start Date=08/20/2017\n",
      "Continuing Simulation at 08/20/2017 for RUNPERIOD 1\n",
      "Updating Shadowing Calculations, Start Date=08/27/2017\n",
      "Continuing Simulation at 08/27/2017 for RUNPERIOD 1\n",
      "Updating Shadowing Calculations, Start Date=09/03/2017\n",
      "Continuing Simulation at 09/03/2017 for RUNPERIOD 1\n",
      "Updating Shadowing Calculations, Start Date=09/10/2017\n",
      "Continuing Simulation at 09/10/2017 for RUNPERIOD 1\n",
      "Updating Shadowing Calculations, Start Date=09/17/2017\n",
      "Continuing Simulation at 09/17/2017 for RUNPERIOD 1\n",
      "Updating Shadowing Calculations, Start Date=09/24/2017\n",
      "Continuing Simulation at 09/24/2017 for RUNPERIOD 1\n",
      "Updating Shadowing Calculations, Start Date=10/01/2017\n",
      "Continuing Simulation at 10/01/2017 for RUNPERIOD 1\n",
      "Updating Shadowing Calculations, Start Date=10/08/2017\n",
      "Continuing Simulation at 10/08/2017 for RUNPERIOD 1\n",
      "Updating Shadowing Calculations, Start Date=10/15/2017\n",
      "Continuing Simulation at 10/15/2017 for RUNPERIOD 1\n",
      "Updating Shadowing Calculations, Start Date=10/22/2017\n",
      "Continuing Simulation at 10/22/2017 for RUNPERIOD 1\n",
      "Updating Shadowing Calculations, Start Date=10/29/2017\n",
      "Continuing Simulation at 10/29/2017 for RUNPERIOD 1\n",
      "Updating Shadowing Calculations, Start Date=11/05/2017\n",
      "Continuing Simulation at 11/05/2017 for RUNPERIOD 1\n",
      "Updating Shadowing Calculations, Start Date=11/12/2017\n",
      "Continuing Simulation at 11/12/2017 for RUNPERIOD 1\n",
      "Updating Shadowing Calculations, Start Date=11/19/2017\n",
      "Continuing Simulation at 11/19/2017 for RUNPERIOD 1\n",
      "Updating Shadowing Calculations, Start Date=11/26/2017\n",
      "Continuing Simulation at 11/26/2017 for RUNPERIOD 1\n",
      "Updating Shadowing Calculations, Start Date=12/03/2017\n",
      "Continuing Simulation at 12/03/2017 for RUNPERIOD 1\n",
      "Updating Shadowing Calculations, Start Date=12/10/2017\n",
      "Continuing Simulation at 12/10/2017 for RUNPERIOD 1\n",
      "Updating Shadowing Calculations, Start Date=12/17/2017\n",
      "Continuing Simulation at 12/17/2017 for RUNPERIOD 1\n",
      "Updating Shadowing Calculations, Start Date=12/24/2017\n",
      "Continuing Simulation at 12/24/2017 for RUNPERIOD 1\n",
      "Updating Shadowing Calculations, Start Date=12/31/2017\n",
      "Writing tabular output file results using HTML format.\n",
      "Writing Tariff Reports\n",
      "Writing final SQL reports\n",
      "EnergyPlus Run Time=00hr 00min 27.96sec\n"
     ]
    },
    {
     "name": "stderr",
     "output_type": "stream",
     "text": [
      "EnergyPlus Completed Successfully.\n"
     ]
    }
   ],
   "source": [
    "results_path = os.path.join(os.path.dirname(idf_path),'results')\n",
    "if os.path.exists(results_path):\n",
    "    pass\n",
    "else:\n",
    "    os.mkdir(results_path)\n",
    "os.chdir(results_path)\n",
    "\n",
    "idf = IDF(idf_path, epw)\n",
    "idf.run()"
   ]
  },
  {
   "cell_type": "code",
   "execution_count": 17,
   "metadata": {},
   "outputs": [
    {
     "name": "stdout",
     "output_type": "stream",
     "text": [
      "Help on method run in module eppy.modeleditor:\n",
      "\n",
      "run(**kwargs) method of eppy.modeleditor.IDF instance\n",
      "    This method wraps the following method:\n",
      "    \n",
      "    run(idf=None, weather=None, output_directory='', annual=False, design_day=False, idd=None, epmacro=False, expandobjects=False, readvars=False, output_prefix=None, output_suffix=None, version=False, verbose='v', ep_version=None)\n",
      "        Wrapper around the EnergyPlus command line interface.\n",
      "        \n",
      "        Parameters\n",
      "        ----------\n",
      "        idf : str\n",
      "            Full or relative path to the IDF file to be run, or an IDF object.\n",
      "        \n",
      "        weather : str\n",
      "            Full or relative path to the weather file.\n",
      "        \n",
      "        output_directory : str, optional\n",
      "            Full or relative path to an output directory (default: 'run_outputs)\n",
      "        \n",
      "        annual : bool, optional\n",
      "            If True then force annual simulation (default: False)\n",
      "        \n",
      "        design_day : bool, optional\n",
      "            Force design-day-only simulation (default: False)\n",
      "        \n",
      "        idd : str, optional\n",
      "            Input data dictionary (default: Energy+.idd in EnergyPlus directory)\n",
      "        \n",
      "        epmacro : str, optional\n",
      "            Run EPMacro prior to simulation (default: False).\n",
      "        \n",
      "        expandobjects : bool, optional\n",
      "            Run ExpandObjects prior to simulation (default: False)\n",
      "        \n",
      "        readvars : bool, optional\n",
      "            Run ReadVarsESO after simulation (default: False)\n",
      "        \n",
      "        output_prefix : str, optional\n",
      "            Prefix for output file names (default: eplus)\n",
      "        \n",
      "        output_suffix : str, optional\n",
      "            Suffix style for output file names (default: L)\n",
      "                L: Legacy (e.g., eplustbl.csv)\n",
      "                C: Capital (e.g., eplusTable.csv)\n",
      "                D: Dash (e.g., eplus-table.csv)\n",
      "        \n",
      "        version : bool, optional\n",
      "            Display version information (default: False)\n",
      "        \n",
      "        verbose: str\n",
      "            Set verbosity of runtime messages (default: v)\n",
      "                v: verbose\n",
      "                q: quiet\n",
      "                s: silent\n",
      "        \n",
      "        ep_version: str\n",
      "            EnergyPlus version, used to find install directory. Required if run() is\n",
      "            called with an IDF file path rather than an IDF object.\n",
      "        \n",
      "        Returns\n",
      "        -------\n",
      "        str : status\n",
      "        \n",
      "        Raises\n",
      "        ------\n",
      "        CalledProcessError\n",
      "        \n",
      "        AttributeError\n",
      "            If no ep_version parameter is passed when calling with an IDF file path\n",
      "            rather than an IDF object.\n",
      "\n"
     ]
    }
   ],
   "source": [
    "help(idf.run)"
   ]
  },
  {
   "cell_type": "code",
   "execution_count": 2,
   "metadata": {},
   "outputs": [],
   "source": [
    "import eppy_multi"
   ]
  },
  {
   "cell_type": "code",
   "execution_count": 9,
   "metadata": {},
   "outputs": [
    {
     "ename": "",
     "evalue": "",
     "output_type": "error",
     "traceback": [
      "\u001b[1;31mThe Kernel crashed while executing code in the the current cell or a previous cell. Please review the code in the cell(s) to identify a possible cause of the failure. Click <a href='https://aka.ms/vscodeJupyterKernelCrash'>here</a> for more info. View Jupyter <a href='command:jupyter.viewOutput'>log</a> for further details."
     ]
    },
    {
     "ename": "",
     "evalue": "",
     "output_type": "error",
     "traceback": [
      "\u001b[1;31mCanceled future for execute_request message before replies were done"
     ]
    }
   ],
   "source": [
    "eppy_multi.main()"
   ]
  }
 ],
 "metadata": {
  "kernelspec": {
   "display_name": "LBT",
   "language": "python",
   "name": "python3"
  },
  "language_info": {
   "codemirror_mode": {
    "name": "ipython",
    "version": 3
   },
   "file_extension": ".py",
   "mimetype": "text/x-python",
   "name": "python",
   "nbconvert_exporter": "python",
   "pygments_lexer": "ipython3",
   "version": "3.8.13"
  },
  "orig_nbformat": 4,
  "vscode": {
   "interpreter": {
    "hash": "b627d637684039ba21c8ca818d908196dc4fef6724760706be784018332fcce1"
   }
  }
 },
 "nbformat": 4,
 "nbformat_minor": 2
}
