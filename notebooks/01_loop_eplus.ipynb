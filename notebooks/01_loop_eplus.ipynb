{
 "cells": [
  {
   "cell_type": "code",
   "execution_count": 1,
   "metadata": {},
   "outputs": [],
   "source": [
    "%load_ext autoreload\n",
    "%autoreload 2"
   ]
  },
  {
   "cell_type": "code",
   "execution_count": 2,
   "metadata": {},
   "outputs": [],
   "source": [
    "import eppy_multi\n",
    "from multiprocess import Pool"
   ]
  },
  {
   "cell_type": "code",
   "execution_count": 5,
   "metadata": {},
   "outputs": [
    {
     "name": "stdout",
     "output_type": "stream",
     "text": [
      "('historical', 2020)\n",
      "('ssp126', 2035)\n",
      "('ssp126', 2050)\n",
      "('ssp126', 2065)\n",
      "('ssp126', 2080)\n",
      "('ssp245', 2035)\n",
      "('ssp245', 2050)\n",
      "('ssp245', 2065)\n",
      "('ssp245', 2080)\n",
      "('ssp585', 2035)\n",
      "('ssp585', 2050)\n",
      "('ssp585', 2065)\n",
      "('ssp585', 2080)\n"
     ]
    }
   ],
   "source": [
    "n_processes = 22\n",
    "all_runs = eppy_multi.build_runs(n_processes)"
   ]
  },
  {
   "cell_type": "code",
   "execution_count": 7,
   "metadata": {},
   "outputs": [
    {
     "data": {
      "text/plain": [
       "3344"
      ]
     },
     "execution_count": 7,
     "metadata": {},
     "output_type": "execute_result"
    }
   ],
   "source": [
    "len(all_runs[0])*22"
   ]
  },
  {
   "cell_type": "code",
   "execution_count": 8,
   "metadata": {},
   "outputs": [],
   "source": [
    "if __name__ ==  '__main__': \n",
    "\n",
    "    with Pool(processes = n_processes) as p: \n",
    "        results = p.map_async(eppy_multi.wrap_run_loop, all_runs)\n",
    "        p.close()\n",
    "        p.join()\n"
   ]
  },
  {
   "cell_type": "code",
   "execution_count": 99,
   "metadata": {},
   "outputs": [
    {
     "name": "stdout",
     "output_type": "stream",
     "text": [
      "C:\\Users\\Justin\\Documents\\GitHub\\cmip6_and_buildings\\eplus_simulations\\post1980\\idf_files\\v22_2\\2a_post1980_v22_2\\RefBldgStripMallPost1980_V22-2-0_2A_USA_TX_HOUSTON.idf\n",
      "C:\\Users\\Justin\\Documents\\GitHub\\cmip6_and_buildings\\eplus_simulations\\post1980\\results\\v22_2\\2a\\historical_2020\\RefBldgStripMallPost1980\n",
      "C:\\Users\\Justin\\Documents\\GitHub\\cmip6_and_buildings\\eplus_simulations\\post1980\\idf_files\\v22_2\\2a_post1980_v22_2\\RefBldgStripMallPost1980_V22-2-0_2A_USA_TX_HOUSTON.idf\n",
      "C:\\Users\\Justin\\Documents\\GitHub\\cmip6_and_buildings\\eplus_simulations\\post1980\\results\\v22_2\\2a\\ssp126_2035\\RefBldgStripMallPost1980\n",
      "C:\\Users\\Justin\\Documents\\GitHub\\cmip6_and_buildings\\eplus_simulations\\post1980\\idf_files\\v22_2\\2a_post1980_v22_2\\RefBldgStripMallPost1980_V22-2-0_2A_USA_TX_HOUSTON.idf\n",
      "C:\\Users\\Justin\\Documents\\GitHub\\cmip6_and_buildings\\eplus_simulations\\post1980\\results\\v22_2\\2a\\ssp126_2050\\RefBldgStripMallPost1980\n",
      "C:\\Users\\Justin\\Documents\\GitHub\\cmip6_and_buildings\\eplus_simulations\\post1980\\idf_files\\v22_2\\2a_post1980_v22_2\\RefBldgStripMallPost1980_V22-2-0_2A_USA_TX_HOUSTON.idf\n",
      "C:\\Users\\Justin\\Documents\\GitHub\\cmip6_and_buildings\\eplus_simulations\\post1980\\results\\v22_2\\2a\\ssp126_2065\\RefBldgStripMallPost1980\n",
      "C:\\Users\\Justin\\Documents\\GitHub\\cmip6_and_buildings\\eplus_simulations\\post1980\\idf_files\\v22_2\\2a_post1980_v22_2\\RefBldgStripMallPost1980_V22-2-0_2A_USA_TX_HOUSTON.idf\n",
      "C:\\Users\\Justin\\Documents\\GitHub\\cmip6_and_buildings\\eplus_simulations\\post1980\\results\\v22_2\\2a\\ssp126_2080\\RefBldgStripMallPost1980\n",
      "C:\\Users\\Justin\\Documents\\GitHub\\cmip6_and_buildings\\eplus_simulations\\post1980\\idf_files\\v22_2\\2a_post1980_v22_2\\RefBldgStripMallPost1980_V22-2-0_2A_USA_TX_HOUSTON.idf\n",
      "C:\\Users\\Justin\\Documents\\GitHub\\cmip6_and_buildings\\eplus_simulations\\post1980\\results\\v22_2\\2a\\ssp245_2035\\RefBldgStripMallPost1980\n",
      "C:\\Users\\Justin\\Documents\\GitHub\\cmip6_and_buildings\\eplus_simulations\\post1980\\idf_files\\v22_2\\2a_post1980_v22_2\\RefBldgStripMallPost1980_V22-2-0_2A_USA_TX_HOUSTON.idf\n",
      "C:\\Users\\Justin\\Documents\\GitHub\\cmip6_and_buildings\\eplus_simulations\\post1980\\results\\v22_2\\2a\\ssp245_2050\\RefBldgStripMallPost1980\n",
      "C:\\Users\\Justin\\Documents\\GitHub\\cmip6_and_buildings\\eplus_simulations\\post1980\\idf_files\\v22_2\\2a_post1980_v22_2\\RefBldgStripMallPost1980_V22-2-0_2A_USA_TX_HOUSTON.idf\n",
      "C:\\Users\\Justin\\Documents\\GitHub\\cmip6_and_buildings\\eplus_simulations\\post1980\\results\\v22_2\\2a\\ssp245_2065\\RefBldgStripMallPost1980\n",
      "C:\\Users\\Justin\\Documents\\GitHub\\cmip6_and_buildings\\eplus_simulations\\post1980\\idf_files\\v22_2\\2a_post1980_v22_2\\RefBldgStripMallPost1980_V22-2-0_2A_USA_TX_HOUSTON.idf\n",
      "C:\\Users\\Justin\\Documents\\GitHub\\cmip6_and_buildings\\eplus_simulations\\post1980\\results\\v22_2\\2a\\ssp245_2080\\RefBldgStripMallPost1980\n",
      "C:\\Users\\Justin\\Documents\\GitHub\\cmip6_and_buildings\\eplus_simulations\\post1980\\idf_files\\v22_2\\2a_post1980_v22_2\\RefBldgStripMallPost1980_V22-2-0_2A_USA_TX_HOUSTON.idf\n",
      "C:\\Users\\Justin\\Documents\\GitHub\\cmip6_and_buildings\\eplus_simulations\\post1980\\results\\v22_2\\2a\\ssp585_2035\\RefBldgStripMallPost1980\n",
      "C:\\Users\\Justin\\Documents\\GitHub\\cmip6_and_buildings\\eplus_simulations\\post1980\\idf_files\\v22_2\\2a_post1980_v22_2\\RefBldgStripMallPost1980_V22-2-0_2A_USA_TX_HOUSTON.idf\n",
      "C:\\Users\\Justin\\Documents\\GitHub\\cmip6_and_buildings\\eplus_simulations\\post1980\\results\\v22_2\\2a\\ssp585_2050\\RefBldgStripMallPost1980\n",
      "C:\\Users\\Justin\\Documents\\GitHub\\cmip6_and_buildings\\eplus_simulations\\post1980\\idf_files\\v22_2\\2a_post1980_v22_2\\RefBldgStripMallPost1980_V22-2-0_2A_USA_TX_HOUSTON.idf\n",
      "C:\\Users\\Justin\\Documents\\GitHub\\cmip6_and_buildings\\eplus_simulations\\post1980\\results\\v22_2\\2a\\ssp585_2065\\RefBldgStripMallPost1980\n"
     ]
    },
    {
     "data": {
      "text/plain": [
       "'C:\\\\Users\\\\Justin\\\\Documents\\\\GitHub\\\\cmip6_and_buildings\\\\eplus_simulations\\\\post1980\\\\results\\\\v22_2\\\\2a\\\\ssp585_2065\\\\RefBldgStripMallPost1980'"
      ]
     },
     "execution_count": 99,
     "metadata": {},
     "output_type": "execute_result"
    }
   ],
   "source": [
    "flat_runs = [item for sublist in all_runs for item in sublist]\n",
    "strip_mall = [f for f in flat_runs if 'StripMall' in f['file_name']]\n",
    "eppy_multi.wrap_run_loop(strip_mall)"
   ]
  },
  {
   "cell_type": "code",
   "execution_count": null,
   "metadata": {},
   "outputs": [],
   "source": [
    "import os\n",
    "import glob\n",
    "# from honeybee_energy import run as hbe\n",
    "from eppy.modeleditor import IDF\n",
    "import sys"
   ]
  },
  {
   "cell_type": "code",
   "execution_count": null,
   "metadata": {},
   "outputs": [],
   "source": [
    "vintage = 'pre1980'\n",
    "cz = '1a'"
   ]
  },
  {
   "cell_type": "code",
   "execution_count": null,
   "metadata": {},
   "outputs": [],
   "source": [
    "project_root = '/Users/jmccarty/GitHub/cmip6_and_buildings'\n",
    "# idf_dir = glob.glob(os.path.join(project_root,'eplus_simulations',vintage,'idf_files','v22_2',f'{cz}*'))[0]\n",
    "idf_path = \"/Users/jmccarty/Desktop/test_idf_run/test_idf.idf\"\n",
    "epw = glob.glob(os.path.join(project_root,'weather_files','tmy3',f'{cz}*'))[0]\n",
    "# hbe.run_idf(idf_file_path=idf, epw_file_path=epw, )\n",
    "\n"
   ]
  },
  {
   "cell_type": "code",
   "execution_count": null,
   "metadata": {},
   "outputs": [],
   "source": []
  },
  {
   "cell_type": "code",
   "execution_count": null,
   "metadata": {},
   "outputs": [],
   "source": [
    "idf_file = \"/Users/jmccarty/GitHub/cmip6_and_buildings/eplus_simulations/pre1980/idf_files/v22_2/1a_pre1980_v22_2/RefBldgFullServiceRestaurantPre1980_V22-2-0_1A_USA_FL_MIAMI.idf\"\n",
    "\n",
    "def decomponse_idf_filename(idf_file):\n",
    "    sim_dir_split = idf_file.split(\"eplus_simulations\")\n",
    "    file_segments = sim_dir_split[1].split(os.sep)\n",
    "    idf_segments = file_segments[-1].split(\"_\")\n",
    "\n",
    "    return {'project_root': sim_dir_split[0],\n",
    "            'vintage': file_segments[1],\n",
    "            'version': file_segments[3],\n",
    "            'building_type': idf_segments[0],\n",
    "            'climate_zone': idf_segments[2].lower()}\n",
    "    \n",
    "decomponse_idf_filename(idf_file)"
   ]
  },
  {
   "cell_type": "code",
   "execution_count": null,
   "metadata": {},
   "outputs": [],
   "source": [
    "a = glob.glob(os.path.join(project_root,'eplus_simulations',vintage,'idf_files','v22_2',f'{cz}*'))[0]\n",
    "# os.path.dirname(a)\n",
    "idf_fname = glob.glob(os.path.join(a,'*.idf'))[0]\n",
    "cz_dir = os.path.dirname(idf_fname).split(os.sep)[-1]"
   ]
  },
  {
   "cell_type": "code",
   "execution_count": null,
   "metadata": {},
   "outputs": [],
   "source": [
    "\n",
    "def decompose_idf_filename(idf_file):\n",
    "    sim_dir_split = idf_file.split(\"eplus_simulations\")\n",
    "    file_segments = sim_dir_split[1].split(os.sep)\n",
    "    idf_segments = file_segments[-1].split(\"_\")\n",
    "\n",
    "    details = {'project_root': sim_dir_split[0],\n",
    "            'vintage': file_segments[1],\n",
    "            'version': file_segments[3],\n",
    "            'building_type': idf_segments[0],\n",
    "            'climate_zone': idf_segments[2].lower()\n",
    "            }\n",
    "    return details\n",
    "\n",
    "\n",
    "def create_results_dir(idf):\n",
    "    fname = idf.idfname\n",
    "    idf_details = decompose_idf_filename(fname)\n",
    "\n",
    "    results_pardir = os.path.join(idf_details['project_root'],\n",
    "                                  'eplus_simulations',\n",
    "                                  idf_details['vintage'],\n",
    "                                  idf_details['version'],\n",
    "                                  idf_details['climate_zone']\n",
    "                                  )\n",
    "    # check_dir_create(results_pardir)\n",
    "\n",
    "    results_dir = os.path.join(results_pardir, idf_details['building_type'])\n",
    "    # check_dir_create(results_dir)\n",
    "\n",
    "    return results_dir"
   ]
  },
  {
   "cell_type": "code",
   "execution_count": null,
   "metadata": {},
   "outputs": [],
   "source": [
    "create_results_dir(idf)"
   ]
  },
  {
   "cell_type": "code",
   "execution_count": null,
   "metadata": {},
   "outputs": [],
   "source": [
    "def get_year_bands(year, formatted=True):\n",
    "    if formatted:\n",
    "        year_bands = f'{year-15}-{year+15}'\n",
    "    else:\n",
    "        year_bands = (year-15, year+15)\n",
    "    return year_bands\n",
    "\n",
    "def get_epw_name(idf_fname, scenario, year, ptile=50):\n",
    "    idf_details = decompose_idf_filename(idf_path)\n",
    "    project_root = idf_details['project_root']\n",
    "    cz = idf_details['climate_zone']\n",
    "    \n",
    "    \n",
    "    if scenario=='historical':\n",
    "        epw_path = glob.glob(os.path.join(project_root,'weather_files','tmy3',f'{cz}*.epw'))[0]\n",
    "    else:\n",
    "        year_bands = get_year_bands(year, formatted=True)\n",
    "        epw_path = os.path.join(project_root,'weather_files','morphed',cz,scenario,'EPWs',f'{scenario}_{ptile}_{year_bands}.epw')\n",
    "    return epw_path\n",
    "\n",
    "scenarios = ['historical', 'ssp126', 'ssp245', 'ssp585']\n",
    "years = [2020, 2035, 2050, 2065, 2080]\n",
    "for scenario in scenarios:\n",
    "    for year in years:\n",
    "        if scenario=='historical':\n",
    "            year = 2020\n",
    "        else:\n",
    "            if year==2020:\n",
    "                continue\n",
    "        epw_path = get_epw_name(idf_path, scenario, year)\n",
    "        print(epw_path, os.path.exists(epw_path))\n",
    "\n"
   ]
  },
  {
   "cell_type": "code",
   "execution_count": null,
   "metadata": {},
   "outputs": [],
   "source": [
    "project_root = \"/Users/jmccarty/GitHub/cmip6_and_buildings\"\n",
    "vintages = ['pre1980','post1980', 'new']\n",
    "\n",
    "def load_idf_list(vintages):\n",
    "    all_idf = []\n",
    "    for vintage in vintages:\n",
    "        for par_dir in glob.glob(os.path.join(project_root, 'eplus_simulations', vintage, 'idf_files', 'v22_2','*v22_2')):\n",
    "            idf_files = glob.glob(os.path.join(par_dir,'*.idf'))\n",
    "            all_idf.append(idf_files)\n",
    "    \n",
    "    return [item for sublist in all_idf for item in sublist]\n"
   ]
  },
  {
   "cell_type": "code",
   "execution_count": null,
   "metadata": {},
   "outputs": [],
   "source": [
    "idf_path = \"/Users/jmccarty/GitHub/cmip6_and_buildings/eplus_simulations/post1980/idf_files/v22_2/3a_post1980_v22_2/RefBldgPrimarySchoolPost1980_V22-2-0_3A_USA_GA_ATLANTA.idf\"\n",
    "\n",
    "idf = IDF(idf_path, epw)\n",
    "\n",
    "idfversion = idf.idfobjects['version'][0].Version_Identifier.split('.')\n",
    "idfversion.extend([0] * (3 - len(idfversion)))\n",
    "idfversionstr = '-'.join([str(item) for item in idfversion])\n",
    "fname = idf.idfname\n",
    "options = {\n",
    "    'ep_version': idfversionstr,  # runIDFs needs the version number\n",
    "    'output_prefix': os.path.basename(fname).split('.')[0],\n",
    "    'output_suffix': 'D',\n",
    "    'output_directory': create_results_dir(idf),\n",
    "    'readvars': True,\n",
    "    'expandobjects': True\n",
    "}\n",
    "options"
   ]
  },
  {
   "cell_type": "code",
   "execution_count": null,
   "metadata": {},
   "outputs": [],
   "source": [
    "results_path = os.path.join(os.path.dirname(idf_path),'results')\n",
    "if os.path.exists(results_path):\n",
    "    pass\n",
    "else:\n",
    "    os.mkdir(results_path)\n",
    "os.chdir(results_path)\n",
    "\n",
    "idf = IDF(idf_path, epw)\n",
    "idf.run()"
   ]
  },
  {
   "cell_type": "code",
   "execution_count": null,
   "metadata": {},
   "outputs": [],
   "source": [
    "help(idf.run)"
   ]
  },
  {
   "attachments": {},
   "cell_type": "markdown",
   "metadata": {},
   "source": [
    "# Results"
   ]
  },
  {
   "cell_type": "code",
   "execution_count": 4,
   "metadata": {},
   "outputs": [],
   "source": [
    "import os\n",
    "import glob"
   ]
  },
  {
   "cell_type": "code",
   "execution_count": 15,
   "metadata": {},
   "outputs": [
    {
     "data": {
      "text/plain": [
       "['C:\\\\Users\\\\Justin\\\\Documents\\\\GitHub\\\\cmip6_and_buildings\\\\eplus_simulations\\\\new\\\\results\\\\v22_2\\\\1a\\\\ssp126_2035\\\\RefBldgMidriseApartmentNew2004\\\\RefBldgMidriseApartmentNew2004_V22-2-0_1A_USA_FL_MIAMI-meter.csv',\n",
       " 'C:\\\\Users\\\\Justin\\\\Documents\\\\GitHub\\\\cmip6_and_buildings\\\\eplus_simulations\\\\new\\\\results\\\\v22_2\\\\1a\\\\ssp126_2035\\\\RefBldgMidriseApartmentNew2004\\\\RefBldgMidriseApartmentNew2004_V22-2-0_1A_USA_FL_MIAMI-ssz.csv',\n",
       " 'C:\\\\Users\\\\Justin\\\\Documents\\\\GitHub\\\\cmip6_and_buildings\\\\eplus_simulations\\\\new\\\\results\\\\v22_2\\\\1a\\\\ssp126_2035\\\\RefBldgMidriseApartmentNew2004\\\\RefBldgMidriseApartmentNew2004_V22-2-0_1A_USA_FL_MIAMI-zsz.csv',\n",
       " 'C:\\\\Users\\\\Justin\\\\Documents\\\\GitHub\\\\cmip6_and_buildings\\\\eplus_simulations\\\\new\\\\results\\\\v22_2\\\\1a\\\\ssp126_2035\\\\RefBldgMidriseApartmentNew2004\\\\RefBldgMidriseApartmentNew2004_V22-2-0_1A_USA_FL_MIAMI.csv']"
      ]
     },
     "execution_count": 15,
     "metadata": {},
     "output_type": "execute_result"
    }
   ],
   "source": [
    "project_root = r\"C:\\Users\\Justin\\Documents\\GitHub\\cmip6_and_buildings\"\n",
    "\n",
    "vintage = 'new'\n",
    "climate_zone = '1a'\n",
    "scen_year = 'ssp126_2035'\n",
    "building_type = 'RefBldgMidriseApartment'\n",
    "cz_dir = os.path.join(project_root,'eplus_simulations',vintage,'results','v22_2',climate_zone)\n",
    "\n",
    "results_dir = glob.glob(os.path.join(cz_dir, scen_year, building_type+\"*\"))[0]\n",
    "\n",
    "glob.glob(os.path.join(results_dir,\"*.csv\"))\n",
    "    # \\historical_2020\\RefBldgFullServiceRestaurantPre1980\\RefBldgFullServiceRestaurantPre1980_V22-2-0_2A_USA_TX_HOUSTON.csv\""
   ]
  },
  {
   "attachments": {},
   "cell_type": "markdown",
   "metadata": {},
   "source": [
    "# Check IDF Updater"
   ]
  },
  {
   "cell_type": "code",
   "execution_count": 106,
   "metadata": {},
   "outputs": [
    {
     "data": {
      "text/plain": [
       "'win32'"
      ]
     },
     "execution_count": 106,
     "metadata": {},
     "output_type": "execute_result"
    }
   ],
   "source": [
    "from multiprocess import Pool\n",
    "import update_idf_v1 as update_idf\n",
    "import sys\n",
    "import os \n",
    "import glob\n",
    "sys.platform"
   ]
  },
  {
   "cell_type": "code",
   "execution_count": 149,
   "metadata": {},
   "outputs": [],
   "source": [
    "project_root = r\"C:\\Users\\Justin\\Documents\\GitHub\\cmip6_and_buildings\"\n",
    "\n",
    "pre1980_3b_dir = r\"C:\\Users\\Justin\\Documents\\GitHub\\cmip6_and_buildings\\eplus_simulations\\pre1980\\idf_files\\v7_2\\refbldg_3b_usa_nv_las_vegas_pre1980_v1-4_7-2\"\n",
    "post1980_3b_dir = r\"C:\\Users\\Justin\\Documents\\GitHub\\cmip6_and_buildings\\eplus_simulations\\post1980\\idf_files\\v7_2\\refbldg_3b_usa_nv_las_vegas_post1980_v1-4_7-2\"\n",
    "new_3b_dir = r\"C:\\Users\\Justin\\Documents\\GitHub\\cmip6_and_buildings\\eplus_simulations\\new\\idf_files\\v7_2\\refbldg_3b_usa_nv_las_vegas_new2004_v1-4_7-2\"\n",
    "\n",
    "pre1980_7_2 = glob.glob(os.path.join(pre1980_3b_dir,'*.idf'))\n",
    "post1980_7_2 = glob.glob(os.path.join(post1980_3b_dir,'*.idf'))\n",
    "new_7_2 = glob.glob(os.path.join(new_3b_dir,'*.idf'))\n",
    "idf_patch_list = [pre1980_7_2, post1980_7_2, new_7_2]\n",
    "bldg_group_patch_list = ['pre1980','post1980','new']\n",
    "\n",
    "cz = '3b'\n",
    "run_bool = False\n",
    "patch_inputs = []\n",
    "\n",
    "for n, bldg_group in enumerate(bldg_group_patch_list):\n",
    "    bldg_group_dir = os.path.join(project_root, 'eplus_simulations', bldg_group)\n",
    "    temp_dir = os.path.join(bldg_group_dir,'idf_files','v7_2', f'temp_{cz}')\n",
    "    dest_dir = os.path.join(bldg_group_dir,'idf_files','v22_2',f'{cz}_{bldg_group}_v22_2')\n",
    "    if len(glob.glob(os.path.join(dest_dir,\"*\")))>0:\n",
    "        existing_idfs = glob.glob(os.path.join(dest_dir,\"*\"))\n",
    "    for idf in idf_patch_list[n]:\n",
    "        bldg_type = idf.split(os.sep)[-1].lower().split(bldg_group)[0]\n",
    "        exist_sum_check = [1 for ex in existing_idfs if bldg_type in ex.lower()]\n",
    "        if sum(exist_sum_check)>0:\n",
    "            pass\n",
    "        else:\n",
    "            input_tuple_patch = (run_bool, idf, temp_dir, dest_dir)\n",
    "            patch_inputs.append(input_tuple_patch)\n",
    "        "
   ]
  },
  {
   "cell_type": "code",
   "execution_count": 111,
   "metadata": {},
   "outputs": [],
   "source": [
    "chunks = update_idf.chunk_into_n(patch_inputs, 16)\n"
   ]
  },
  {
   "cell_type": "code",
   "execution_count": 114,
   "metadata": {},
   "outputs": [
    {
     "data": {
      "text/plain": [
       "[(True,\n",
       "  'C:\\\\Users\\\\Justin\\\\Documents\\\\GitHub\\\\cmip6_and_buildings\\\\eplus_simulations\\\\new\\\\idf_files\\\\v7_2\\\\refbldg_3b_usa_nv_las_vegas_new2004_v1-4_7-2\\\\RefBldgStripMallNew2004_v1.4_7.2_3B_USA_NV_LAS_VEGAS.idf',\n",
       "  'C:\\\\Users\\\\Justin\\\\Documents\\\\GitHub\\\\cmip6_and_buildings\\\\eplus_simulations\\\\new\\\\idf_files\\\\v7_2\\\\temp_3b',\n",
       "  'C:\\\\Users\\\\Justin\\\\Documents\\\\GitHub\\\\cmip6_and_buildings\\\\eplus_simulations\\\\new\\\\idf_files\\\\v22_2\\\\3b_new_v22_2'),\n",
       " (True,\n",
       "  'C:\\\\Users\\\\Justin\\\\Documents\\\\GitHub\\\\cmip6_and_buildings\\\\eplus_simulations\\\\new\\\\idf_files\\\\v7_2\\\\refbldg_3b_usa_nv_las_vegas_new2004_v1-4_7-2\\\\RefBldgSuperMarketNew2004_v1.4_7.2_3B_USA_NV_LAS_VEGAS.idf',\n",
       "  'C:\\\\Users\\\\Justin\\\\Documents\\\\GitHub\\\\cmip6_and_buildings\\\\eplus_simulations\\\\new\\\\idf_files\\\\v7_2\\\\temp_3b',\n",
       "  'C:\\\\Users\\\\Justin\\\\Documents\\\\GitHub\\\\cmip6_and_buildings\\\\eplus_simulations\\\\new\\\\idf_files\\\\v22_2\\\\3b_new_v22_2'),\n",
       " (True,\n",
       "  'C:\\\\Users\\\\Justin\\\\Documents\\\\GitHub\\\\cmip6_and_buildings\\\\eplus_simulations\\\\new\\\\idf_files\\\\v7_2\\\\refbldg_3b_usa_nv_las_vegas_new2004_v1-4_7-2\\\\RefBldgWarehouseNew2004_v1.4_7.2_3B_USA_NV_LAS_VEGAS.idf',\n",
       "  'C:\\\\Users\\\\Justin\\\\Documents\\\\GitHub\\\\cmip6_and_buildings\\\\eplus_simulations\\\\new\\\\idf_files\\\\v7_2\\\\temp_3b',\n",
       "  'C:\\\\Users\\\\Justin\\\\Documents\\\\GitHub\\\\cmip6_and_buildings\\\\eplus_simulations\\\\new\\\\idf_files\\\\v22_2\\\\3b_new_v22_2')]"
      ]
     },
     "execution_count": 114,
     "metadata": {},
     "output_type": "execute_result"
    }
   ],
   "source": [
    "chunks[15]"
   ]
  }
 ],
 "metadata": {
  "kernelspec": {
   "display_name": "LBT",
   "language": "python",
   "name": "python3"
  },
  "language_info": {
   "codemirror_mode": {
    "name": "ipython",
    "version": 3
   },
   "file_extension": ".py",
   "mimetype": "text/x-python",
   "name": "python",
   "nbconvert_exporter": "python",
   "pygments_lexer": "ipython3",
   "version": "3.11.3"
  },
  "orig_nbformat": 4,
  "vscode": {
   "interpreter": {
    "hash": "b627d637684039ba21c8ca818d908196dc4fef6724760706be784018332fcce1"
   }
  }
 },
 "nbformat": 4,
 "nbformat_minor": 2
}
