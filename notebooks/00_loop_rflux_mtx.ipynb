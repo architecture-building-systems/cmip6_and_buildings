{
 "cells": [
  {
   "cell_type": "code",
   "execution_count": 1,
   "metadata": {},
   "outputs": [],
   "source": [
    "%load_ext autoreload\n",
    "%autoreload 2"
   ]
  },
  {
   "cell_type": "code",
   "execution_count": 2,
   "metadata": {},
   "outputs": [],
   "source": [
    "import time\n",
    "import glob\n",
    "import os\n",
    "import numpy as np\n",
    "import glob\n",
    "import json\n",
    "import pickle\n",
    "import pandas as pd\n",
    "from lbt_recipes.settings import RecipeSettings\n",
    "from lbt_recipes.recipe import Recipe\n",
    "from honeybee.model import Model\n",
    "from ladybug import wea, epw\n",
    "import shutil\n",
    "from pathlib import Path\n",
    "import sys\n",
    "import project_func as pf\n",
    "module_path = r\"C:\\Users\\Justin\\Documents\\GitHub\\IPV_Workbench\"\n",
    "sys.path.insert(0, module_path)\n",
    "# from ipv_workbench.solver import simulations as ipv_sim\n",
    "from ipv_workbench.utilities import utils, time_utils, circuits\n",
    "# from ipv_workbench.solver import calculations as ipv_calc\n",
    "# from ipv_workbench.translators import panelizer\n",
    "# from ipv_workbench.translators import results_writers as ipv_results\n",
    "# from ipv_workbench.devices import devices\n",
    "# from ipv_workbench.translators import mapping_irradiance as ipv_irrad\n",
    "# from ipv_workbench.solver import simulations, simple_power_models\n",
    "\n",
    "\n",
    "project_root = r\"C:\\Users\\Justin\\Documents\\Github\\cmip6_and_buildings\""
   ]
  },
  {
   "attachments": {},
   "cell_type": "markdown",
   "metadata": {},
   "source": [
    "# Fix EPWs"
   ]
  },
  {
   "cell_type": "code",
   "execution_count": 27,
   "metadata": {},
   "outputs": [],
   "source": [
    "from epw import epw  # https://github.com/building-energy/epw\n",
    "\n",
    "\n",
    "\n",
    "def fix_epw(base_epw):\n",
    "    a = epw()\n",
    "    a.read(base_epw)\n",
    "    new_epw = a.dataframe\n",
    "    new_df = utils.tmy_to_dataframe(base_epw)\n",
    "    new_epw['Direct Normal Radiation'] = new_df['dirnorrad_Whm2'].fillna(0)\n",
    "    return a\n",
    "\n",
    "\n",
    "def out_epw(epw_object,file_path):\n",
    "    epw_object.write(file_path)\n",
    "\n",
    "\n"
   ]
  },
  {
   "cell_type": "code",
   "execution_count": 21,
   "metadata": {},
   "outputs": [],
   "source": [
    "cz_list = pf.get_cz_list()\n",
    "years = pf.get_years()\n",
    "vintages = pf.get_vintages()\n",
    "years = pf.get_years()\n",
    "scenarios = pf.get_scenarios()"
   ]
  },
  {
   "cell_type": "code",
   "execution_count": 30,
   "metadata": {},
   "outputs": [],
   "source": [
    "weather_dir = os.path.join(project_root, 'weather_files', 'morphed')\n",
    "\n",
    "for cz in cz_list:\n",
    "    for scenario in scenarios:\n",
    "        epw_dir = os.path.join(weather_dir, cz, scenario, 'EPWs')\n",
    "        epw_files = glob.glob(os.path.join(epw_dir,\"*.epw\"))\n",
    "        for fpath in epw_files:\n",
    "            new_epw = fix_epw(fpath)\n",
    "            out_epw(new_epw, fpath)\n",
    "#     for year in years:\n",
    "#         for scenario in scenarios:\n",
    "#             for cz in cz_list:\n",
    "                    "
   ]
  },
  {
   "cell_type": "code",
   "execution_count": 29,
   "metadata": {},
   "outputs": [
    {
     "data": {
      "text/plain": [
       "0       0.0\n",
       "1       0.0\n",
       "2       0.0\n",
       "3       0.0\n",
       "4       0.0\n",
       "       ... \n",
       "8755    0.0\n",
       "8756    0.0\n",
       "8757    0.0\n",
       "8758    0.0\n",
       "8759    0.0\n",
       "Name: dirnorrad_Whm2, Length: 8760, dtype: float64"
      ]
     },
     "execution_count": 29,
     "metadata": {},
     "output_type": "execute_result"
    }
   ],
   "source": [
    "test_path = r\"C:\\Users\\Justin\\Documents\\GitHub\\cmip6_and_buildings\\weather_files\\morphed\\1a\\ssp126\\EPWs\\ssp126_50_2050-2080.epw\"\n",
    "\n",
    "utils.tmy_to_dataframe(test_path)['dirnorrad_Whm2']"
   ]
  },
  {
   "attachments": {},
   "cell_type": "markdown",
   "metadata": {},
   "source": [
    "# copy historical"
   ]
  },
  {
   "cell_type": "code",
   "execution_count": 33,
   "metadata": {},
   "outputs": [],
   "source": [
    "for vintage in vintages:\n",
    "    vintage_dir = os.path.join(project_root, 'eplus_simulations', vintage[0])\n",
    "    for cz in cz_list[1:]:\n",
    "        old_results = os.path.join(vintage_dir, 'results', 'pv_results',cz)\n",
    "        src_dir = os.path.join(old_results,'historical_2020')\n",
    "        dst_dir = os.path.join(vintage_dir,'results','irrad_results',cz,'historical_2020')\n",
    "        shutil.move(src_dir, dst_dir)"
   ]
  },
  {
   "attachments": {},
   "cell_type": "markdown",
   "metadata": {},
   "source": [
    "# Run Loop"
   ]
  },
  {
   "cell_type": "code",
   "execution_count": 34,
   "metadata": {},
   "outputs": [],
   "source": [
    "def load_model(model_path):\n",
    "    with open(model_path,'r') as fp:\n",
    "        sim_model_dict = json.load(fp)\n",
    "    return sim_model_dict\n",
    "\n",
    "\n",
    "def create_results_dir(project_dir, scenario, year, vintage, climate_zone, building_type):\n",
    "\n",
    "    # if year==2020:\n",
    "    #     pass\n",
    "    # else:\n",
    "    #     year =int((int( year.split(\"-\")[-1]) - int(year.split(\"-\")[0])) / 2 + int(year.split(\"-\")[0]))\n",
    "\n",
    "    scen_year = str(scenario) + \"_\" + str(year)\n",
    "\n",
    "    main_dir = os.path.join(project_dir, 'eplus_simulations',vintage[0],'results')\n",
    "    pv_dir = os.path.join(main_dir, 'irrad_results', climate_zone, scen_year)\n",
    "    results_dir = os.path.join(pv_dir, building_type)\n",
    "    irradiance_dir = os.path.join(results_dir, 'irrad')\n",
    "    if os.path.exists(irradiance_dir):\n",
    "        pass\n",
    "    else:\n",
    "        os.makedirs(irradiance_dir)\n",
    "        pass\n",
    "    return irradiance_dir\n",
    "\n",
    "\n",
    "def run_simulation(model,wea_path,folder,rad_par,workers_,run=True):\n",
    "    start = time.time()\n",
    "\n",
    "    # set the threshold\n",
    "    # sensor_pts = len(model.properties.radiance.to_dict()['radiance']['sensor_grids'][0]['sensors'])\n",
    "    # threshold = int(np.ceil(sensor_pts/workers_))\n",
    "    threshold = 250\n",
    "    \n",
    "    # create the settings\n",
    "    rec_settings = RecipeSettings(folder, workers=workers_)\n",
    "    rec_settings.report_out = True\n",
    "\n",
    "    # create the recipe and set the input arguments\n",
    "    recipe = Recipe('annual-irradiance')\n",
    "    recipe.input_value_by_name('model', model)\n",
    "    recipe.input_value_by_name('wea', wea_path)\n",
    "    recipe.input_value_by_name('north', 0)\n",
    "    recipe.input_value_by_name('min-sensor-count', threshold)\n",
    "    recipe.input_value_by_name('output-type', 'solar')\n",
    "    recipe.input_value_by_name('radiance-parameters', rad_par)\n",
    "    \n",
    "    # run the recipe\n",
    "    if run==True:\n",
    "        recipe.run(settings=rec_settings, radiance_check=True, silent=True)\n",
    "                \n",
    "    end = time.time()\n",
    "    total_runtime = round(end-start,3)\n",
    "    print(f\"Completed in {total_runtime} seconds\")\n",
    "\n",
    "    return total_runtime\n",
    "\n",
    "\n",
    "def run_worfklow(project_root, workers, vintage, building_type, scenario, year, cz, rad_par, run_boolean=True):\n",
    "\n",
    "    # set up model path\n",
    "    model_path = os.path.join(project_root,'eplus_simulations',vintage[0],'results',\"irrad_results\",f\"{building_type}{vintage[1]}\",\n",
    "                              'irrad',\"irrad_model.hbjson\")\n",
    "\n",
    "    # load the honeybee model json as dict\n",
    "    model_dict = load_model(model_path)\n",
    "\n",
    "        \n",
    "    rad_model = Model.from_dict(model_dict)\n",
    "\n",
    "    # get wea\n",
    "    if scenario=='historical':\n",
    "        epw_file = glob.glob(os.path.join(project_root,\"weather_files\",\"tmy3\",f\"{cz}*\"))[0]\n",
    "    else:\n",
    "        year_band = pf.get_year_bands(year)\n",
    "        epw_file = glob.glob(os.path.join(project_root,\"weather_files\",\"morphed\",f\"{cz}\",scenario,\n",
    "                                          'EPWs',f'*50_{year_band}*.epw'))[0]\n",
    "    print(epw_file)\n",
    "    # check on results destination\n",
    "    results_folder = create_results_dir(project_root, scenario, year, vintage, cz, building_type)\n",
    "    \n",
    "    # run\n",
    "    if run_boolean==True:\n",
    "        total_runtime = run_simulation(rad_model, epw_file, results_folder, rad_par, workers, run=run_boolean)\n",
    "        print(f\"------- {total_runtime}\")\n",
    "\n",
    "    # if run_boolean==True:\n",
    "    #     ill_file_maybe = os.path.join(results_folder,\"annual_irradiance\",\"results\",\"total\",\n",
    "    #                                     f\"radiancegrid_{surface_name.replace('surface_','')}_{sensor_pt_count}sensors.ill\")\n",
    "    #     n_negative = check_negatives(ill_file_maybe)\n",
    "    #     write_string = f\"\\n{time.ctime()},{condition},{surface_name},{sensor_pt_count},{total_runtime},{n_negative},{workers},{rad_par}\"\n",
    "    #     log_run(runtime_log,write_string)"
   ]
  },
  {
   "cell_type": "code",
   "execution_count": 35,
   "metadata": {},
   "outputs": [],
   "source": [
    "cz_list = pf.get_cz_list()\n",
    "years = pf.get_years()\n",
    "vintages = pf.get_vintages()\n",
    "years = pf.get_years()\n",
    "scenarios = pf.get_scenarios()\n",
    "rad_par = \"-ab 5 -ad 15000 -as 2048 -c 1 -dc 0.5 -dp 256 -dr 1 -ds 0.25 -dt 0.25 -lr 6 -lw 6.67e-07 -ss 0.7 -st 0.5\""
   ]
  },
  {
   "cell_type": "code",
   "execution_count": 8,
   "metadata": {},
   "outputs": [
    {
     "name": "stdout",
     "output_type": "stream",
     "text": [
      "C:\\Users\\Justin\\Documents\\Github\\cmip6_and_buildings\\weather_files\\morphed\\1a\\ssp126\\EPWs\\ssp126_50_2020-2050.epw\n"
     ]
    },
    {
     "ename": "ValueError",
     "evalue": "Failed to parse EPW data for field \"Direct Normal Radiation\" at index 0.\ninvalid literal for int() with base 10: 'nan'",
     "output_type": "error",
     "traceback": [
      "\u001b[1;31m---------------------------------------------------------------------------\u001b[0m",
      "\u001b[1;31mValueError\u001b[0m                                Traceback (most recent call last)",
      "File \u001b[1;32mc:\\Users\\Justin\\miniconda3\\envs\\lbt\\lib\\site-packages\\ladybug\\epw.py:536\u001b[0m, in \u001b[0;36mEPW._import_body\u001b[1;34m(self, body_lines)\u001b[0m\n\u001b[0;32m    535\u001b[0m \u001b[39mtry\u001b[39;00m:\n\u001b[1;32m--> 536\u001b[0m     value \u001b[39m=\u001b[39m value_type(data[field_number])\n\u001b[0;32m    537\u001b[0m \u001b[39mexcept\u001b[39;00m \u001b[39mValueError\u001b[39;00m \u001b[39mas\u001b[39;00m e:\n\u001b[0;32m    538\u001b[0m     \u001b[39m# failed to cast the data to the correct type\u001b[39;00m\n",
      "\u001b[1;31mValueError\u001b[0m: invalid literal for int() with base 10: 'nan'",
      "\nDuring handling of the above exception, another exception occurred:\n",
      "\u001b[1;31mValueError\u001b[0m                                Traceback (most recent call last)",
      "File \u001b[1;32mc:\\Users\\Justin\\miniconda3\\envs\\lbt\\lib\\site-packages\\ladybug\\epw.py:543\u001b[0m, in \u001b[0;36mEPW._import_body\u001b[1;34m(self, body_lines)\u001b[0m\n\u001b[0;32m    542\u001b[0m \u001b[39mtry\u001b[39;00m:\n\u001b[1;32m--> 543\u001b[0m     value \u001b[39m=\u001b[39m \u001b[39mint\u001b[39m(\u001b[39mround\u001b[39;49m(\u001b[39mfloat\u001b[39;49m(data[field_number])))\n\u001b[0;32m    544\u001b[0m \u001b[39mexcept\u001b[39;00m \u001b[39mValueError\u001b[39;00m:\n",
      "\u001b[1;31mValueError\u001b[0m: cannot convert float NaN to integer",
      "\nDuring handling of the above exception, another exception occurred:\n",
      "\u001b[1;31mValueError\u001b[0m                                Traceback (most recent call last)",
      "Cell \u001b[1;32mIn[8], line 6\u001b[0m\n\u001b[0;32m      4\u001b[0m \u001b[39mfor\u001b[39;00m cz \u001b[39min\u001b[39;00m cz_list:\n\u001b[0;32m      5\u001b[0m     \u001b[39mfor\u001b[39;00m building_type \u001b[39min\u001b[39;00m [\u001b[39m'\u001b[39m\u001b[39mRefBldgMediumOffice\u001b[39m\u001b[39m'\u001b[39m,\u001b[39m'\u001b[39m\u001b[39mRefBldgMidriseApartment\u001b[39m\u001b[39m'\u001b[39m]:\n\u001b[1;32m----> 6\u001b[0m         run_worfklow(project_root, \u001b[39m22\u001b[39;49m,\n\u001b[0;32m      7\u001b[0m                     vintage, building_type,\n\u001b[0;32m      8\u001b[0m                     scenario, year, cz, rad_par,\n\u001b[0;32m      9\u001b[0m                     run_boolean\u001b[39m=\u001b[39;49m\u001b[39mTrue\u001b[39;49;00m)\n",
      "Cell \u001b[1;32mIn[7], line 85\u001b[0m, in \u001b[0;36mrun_worfklow\u001b[1;34m(project_root, workers, vintage, building_type, scenario, year, cz, rad_par, run_boolean)\u001b[0m\n\u001b[0;32m     83\u001b[0m \u001b[39m# run\u001b[39;00m\n\u001b[0;32m     84\u001b[0m \u001b[39mif\u001b[39;00m run_boolean\u001b[39m==\u001b[39m\u001b[39mTrue\u001b[39;00m:\n\u001b[1;32m---> 85\u001b[0m     total_runtime \u001b[39m=\u001b[39m run_simulation(rad_model, epw_file, results_folder, rad_par, workers, run\u001b[39m=\u001b[39;49mrun_boolean)\n\u001b[0;32m     86\u001b[0m     \u001b[39mprint\u001b[39m(\u001b[39mf\u001b[39m\u001b[39m\"\u001b[39m\u001b[39m------- \u001b[39m\u001b[39m{\u001b[39;00mtotal_runtime\u001b[39m}\u001b[39;00m\u001b[39m\"\u001b[39m)\n",
      "Cell \u001b[1;32mIn[7], line 51\u001b[0m, in \u001b[0;36mrun_simulation\u001b[1;34m(model, wea_path, folder, rad_par, workers_, run)\u001b[0m\n\u001b[0;32m     49\u001b[0m \u001b[39m# run the recipe\u001b[39;00m\n\u001b[0;32m     50\u001b[0m \u001b[39mif\u001b[39;00m run\u001b[39m==\u001b[39m\u001b[39mTrue\u001b[39;00m:\n\u001b[1;32m---> 51\u001b[0m     recipe\u001b[39m.\u001b[39;49mrun(settings\u001b[39m=\u001b[39;49mrec_settings, radiance_check\u001b[39m=\u001b[39;49m\u001b[39mTrue\u001b[39;49;00m, silent\u001b[39m=\u001b[39;49m\u001b[39mTrue\u001b[39;49;00m)\n\u001b[0;32m     53\u001b[0m end \u001b[39m=\u001b[39m time\u001b[39m.\u001b[39mtime()\n\u001b[0;32m     54\u001b[0m total_runtime \u001b[39m=\u001b[39m \u001b[39mround\u001b[39m(end\u001b[39m-\u001b[39mstart,\u001b[39m3\u001b[39m)\n",
      "File \u001b[1;32mc:\\Users\\Justin\\miniconda3\\envs\\lbt\\lib\\site-packages\\lbt_recipes\\recipe.py:287\u001b[0m, in \u001b[0;36mRecipe.run\u001b[1;34m(self, settings, radiance_check, openstudio_check, energyplus_check, queenbee_path, silent, debug_folder)\u001b[0m\n\u001b[0;32m    284\u001b[0m         nukedir(wf_folder, rmdir\u001b[39m=\u001b[39m\u001b[39mTrue\u001b[39;00m)\n\u001b[0;32m    286\u001b[0m \u001b[39m# write the inputs JSON for the recipe and set up the environment variables\u001b[39;00m\n\u001b[1;32m--> 287\u001b[0m inputs_json \u001b[39m=\u001b[39m \u001b[39mself\u001b[39;49m\u001b[39m.\u001b[39;49mwrite_inputs_json(folder, cpu_count\u001b[39m=\u001b[39;49msettings\u001b[39m.\u001b[39;49mworkers)\n\u001b[0;32m    288\u001b[0m genv \u001b[39m=\u001b[39m {}\n\u001b[0;32m    289\u001b[0m genv[\u001b[39m'\u001b[39m\u001b[39mPATH\u001b[39m\u001b[39m'\u001b[39m] \u001b[39m=\u001b[39m rad_folders\u001b[39m.\u001b[39mradbin_path\n",
      "File \u001b[1;32mc:\\Users\\Justin\\miniconda3\\envs\\lbt\\lib\\site-packages\\lbt_recipes\\recipe.py:200\u001b[0m, in \u001b[0;36mRecipe.write_inputs_json\u001b[1;34m(self, project_folder, indent, cpu_count)\u001b[0m\n\u001b[0;32m    198\u001b[0m inp_dict \u001b[39m=\u001b[39m {}\n\u001b[0;32m    199\u001b[0m \u001b[39mfor\u001b[39;00m inp \u001b[39min\u001b[39;00m \u001b[39mself\u001b[39m\u001b[39m.\u001b[39minputs:\n\u001b[1;32m--> 200\u001b[0m     inp\u001b[39m.\u001b[39;49mhandle_value()\n\u001b[0;32m    201\u001b[0m     \u001b[39mif\u001b[39;00m inp\u001b[39m.\u001b[39mis_path \u001b[39mand\u001b[39;00m inp\u001b[39m.\u001b[39mvalue \u001b[39mis\u001b[39;00m \u001b[39mnot\u001b[39;00m \u001b[39mNone\u001b[39;00m \u001b[39mand\u001b[39;00m inp\u001b[39m.\u001b[39mvalue \u001b[39m!=\u001b[39m \u001b[39m'\u001b[39m\u001b[39m'\u001b[39m:\n\u001b[0;32m    202\u001b[0m         \u001b[39m# copy artifact to project folder\u001b[39;00m\n\u001b[0;32m    203\u001b[0m         path_basename \u001b[39m=\u001b[39m os\u001b[39m.\u001b[39mpath\u001b[39m.\u001b[39mbasename(inp\u001b[39m.\u001b[39mvalue)\n",
      "File \u001b[1;32mc:\\Users\\Justin\\miniconda3\\envs\\lbt\\lib\\site-packages\\lbt_recipes\\recipe.py:536\u001b[0m, in \u001b[0;36mRecipeInput.handle_value\u001b[1;34m(self)\u001b[0m\n\u001b[0;32m    534\u001b[0m \u001b[39mif\u001b[39;00m \u001b[39mnot\u001b[39;00m \u001b[39mself\u001b[39m\u001b[39m.\u001b[39m_is_handled:\n\u001b[0;32m    535\u001b[0m     \u001b[39mfor\u001b[39;00m handler \u001b[39min\u001b[39;00m \u001b[39mself\u001b[39m\u001b[39m.\u001b[39m_handlers:\n\u001b[1;32m--> 536\u001b[0m         \u001b[39mself\u001b[39m\u001b[39m.\u001b[39m_value \u001b[39m=\u001b[39m handler(\u001b[39mself\u001b[39;49m\u001b[39m.\u001b[39;49m_value)\n\u001b[0;32m    537\u001b[0m     \u001b[39mself\u001b[39m\u001b[39m.\u001b[39m_value \u001b[39m=\u001b[39m \u001b[39mself\u001b[39m\u001b[39m.\u001b[39m_type(\u001b[39mself\u001b[39m\u001b[39m.\u001b[39m_value)\n",
      "File \u001b[1;32mc:\\Users\\Justin\\miniconda3\\envs\\lbt\\lib\\site-packages\\pollination_handlers\\inputs\\wea.py:30\u001b[0m, in \u001b[0;36mwea_handler\u001b[1;34m(wea_obj)\u001b[0m\n\u001b[0;32m     27\u001b[0m     wea_file \u001b[39m=\u001b[39m wea_obj\n\u001b[0;32m     28\u001b[0m \u001b[39melif\u001b[39;00m wea_obj\u001b[39m.\u001b[39mlower()\u001b[39m.\u001b[39mendswith(\u001b[39m'\u001b[39m\u001b[39m.epw\u001b[39m\u001b[39m'\u001b[39m):\n\u001b[0;32m     29\u001b[0m     \u001b[39m# translate epw to wea\u001b[39;00m\n\u001b[1;32m---> 30\u001b[0m     wea \u001b[39m=\u001b[39m Wea\u001b[39m.\u001b[39;49mfrom_epw_file(wea_obj)\n\u001b[0;32m     31\u001b[0m     file_path \u001b[39m=\u001b[39m get_tempfile(\u001b[39m'\u001b[39m\u001b[39mwea\u001b[39m\u001b[39m'\u001b[39m, _wea_file_name(wea))\n\u001b[0;32m     32\u001b[0m     wea_file \u001b[39m=\u001b[39m wea\u001b[39m.\u001b[39mwrite(file_path)\n",
      "File \u001b[1;32mc:\\Users\\Justin\\miniconda3\\envs\\lbt\\lib\\site-packages\\ladybug\\wea.py:304\u001b[0m, in \u001b[0;36mWea.from_epw_file\u001b[1;34m(cls, epw_file, timestep)\u001b[0m\n\u001b[0;32m    289\u001b[0m \u001b[39m\"\"\"Create a wea object using the solar irradiance values in an epw file.\u001b[39;00m\n\u001b[0;32m    290\u001b[0m \n\u001b[0;32m    291\u001b[0m \u001b[39mArgs:\u001b[39;00m\n\u001b[1;32m   (...)\u001b[0m\n\u001b[0;32m    300\u001b[0m \u001b[39m        energy can mean the difference between glare and visual comfort.\u001b[39;00m\n\u001b[0;32m    301\u001b[0m \u001b[39m\"\"\"\u001b[39;00m\n\u001b[0;32m    302\u001b[0m epw \u001b[39m=\u001b[39m EPW(epw_file)\n\u001b[0;32m    303\u001b[0m direct_normal, diffuse_horizontal \u001b[39m=\u001b[39m \\\n\u001b[1;32m--> 304\u001b[0m     \u001b[39mcls\u001b[39m\u001b[39m.\u001b[39m_get_data_collections(epw\u001b[39m.\u001b[39;49mdirect_normal_radiation\u001b[39m.\u001b[39mvalues,\n\u001b[0;32m    305\u001b[0m                               epw\u001b[39m.\u001b[39mdiffuse_horizontal_radiation\u001b[39m.\u001b[39mvalues,\n\u001b[0;32m    306\u001b[0m                               epw\u001b[39m.\u001b[39mmetadata, \u001b[39m1\u001b[39m, epw\u001b[39m.\u001b[39mis_leap_year)\n\u001b[0;32m    307\u001b[0m \u001b[39mif\u001b[39;00m timestep \u001b[39m!=\u001b[39m \u001b[39m1\u001b[39m:\n\u001b[0;32m    308\u001b[0m     \u001b[39mprint\u001b[39m(\u001b[39m\"\u001b[39m\u001b[39mNote: timesteps greater than 1 on epw-generated Weas \u001b[39m\u001b[39m\\n\u001b[39;00m\u001b[39m\"\u001b[39m\n\u001b[0;32m    309\u001b[0m           \u001b[39m\"\u001b[39m\u001b[39mare suitable for thermal models but are not recommended \u001b[39m\u001b[39m\\n\u001b[39;00m\u001b[39m\"\u001b[39m\n\u001b[0;32m    310\u001b[0m           \u001b[39m\"\u001b[39m\u001b[39mfor daylight models.\u001b[39m\u001b[39m\"\u001b[39m)\n",
      "File \u001b[1;32mc:\\Users\\Justin\\miniconda3\\envs\\lbt\\lib\\site-packages\\ladybug\\epw.py:1032\u001b[0m, in \u001b[0;36mEPW.direct_normal_radiation\u001b[1;34m(self)\u001b[0m\n\u001b[0;32m   1022\u001b[0m \u001b[39m@property\u001b[39m\n\u001b[0;32m   1023\u001b[0m \u001b[39mdef\u001b[39;00m \u001b[39mdirect_normal_radiation\u001b[39m(\u001b[39mself\u001b[39m):\n\u001b[0;32m   1024\u001b[0m     \u001b[39m\"\"\"Return annual Direct Normal Radiation as a Ladybug Data Collection.\u001b[39;00m\n\u001b[0;32m   1025\u001b[0m \n\u001b[0;32m   1026\u001b[0m \u001b[39m    This is the Direct Normal Radiation in Wh/m2. (Amount of solar radiation in\u001b[39;00m\n\u001b[1;32m   (...)\u001b[0m\n\u001b[0;32m   1030\u001b[0m \u001b[39m    missing values are totaled and presented at the end of the runperiod.\u001b[39;00m\n\u001b[0;32m   1031\u001b[0m \u001b[39m    \"\"\"\u001b[39;00m\n\u001b[1;32m-> 1032\u001b[0m     \u001b[39mreturn\u001b[39;00m \u001b[39mself\u001b[39;49m\u001b[39m.\u001b[39;49m_get_data_by_field(\u001b[39m14\u001b[39;49m)\n",
      "File \u001b[1;32mc:\\Users\\Justin\\miniconda3\\envs\\lbt\\lib\\site-packages\\ladybug\\epw.py:873\u001b[0m, in \u001b[0;36mEPW._get_data_by_field\u001b[1;34m(self, field_number)\u001b[0m\n\u001b[0;32m    860\u001b[0m \u001b[39m\"\"\"Return a data field by field number.\u001b[39;00m\n\u001b[0;32m    861\u001b[0m \n\u001b[0;32m    862\u001b[0m \u001b[39mThis is a useful method to get the values for fields that Ladybug\u001b[39;00m\n\u001b[1;32m   (...)\u001b[0m\n\u001b[0;32m    870\u001b[0m \u001b[39m    An annual Ladybug list\u001b[39;00m\n\u001b[0;32m    871\u001b[0m \u001b[39m\"\"\"\u001b[39;00m\n\u001b[0;32m    872\u001b[0m \u001b[39mif\u001b[39;00m \u001b[39mnot\u001b[39;00m \u001b[39mself\u001b[39m\u001b[39m.\u001b[39mis_data_loaded:\n\u001b[1;32m--> 873\u001b[0m     \u001b[39mself\u001b[39;49m\u001b[39m.\u001b[39;49m_import_data()\n\u001b[0;32m    875\u001b[0m \u001b[39m# check input data\u001b[39;00m\n\u001b[0;32m    876\u001b[0m \u001b[39mif\u001b[39;00m \u001b[39mnot\u001b[39;00m \u001b[39m0\u001b[39m \u001b[39m<\u001b[39m\u001b[39m=\u001b[39m field_number \u001b[39m<\u001b[39m \u001b[39mself\u001b[39m\u001b[39m.\u001b[39m_num_of_fields:\n",
      "File \u001b[1;32mc:\\Users\\Justin\\miniconda3\\envs\\lbt\\lib\\site-packages\\ladybug\\epw.py:388\u001b[0m, in \u001b[0;36mEPW._import_data\u001b[1;34m(self, import_header_only)\u001b[0m\n\u001b[0;32m    386\u001b[0m             body_lines\u001b[39m.\u001b[39mappend(line)\n\u001b[0;32m    387\u001b[0m         \u001b[39mdel\u001b[39;00m body_lines[\u001b[39m-\u001b[39m\u001b[39m1\u001b[39m]  \u001b[39m# last line is a blank space\u001b[39;00m\n\u001b[1;32m--> 388\u001b[0m         \u001b[39mself\u001b[39;49m\u001b[39m.\u001b[39;49m_import_body(body_lines)\n\u001b[0;32m    389\u001b[0m \u001b[39mexcept\u001b[39;00m \u001b[39mUnicodeDecodeError\u001b[39;00m:  \u001b[39m# let's hope it's just latin characters\u001b[39;00m\n\u001b[0;32m    390\u001b[0m     \u001b[39m# TODO: do a better job of trying to sense the encoding\u001b[39;00m\n\u001b[0;32m    391\u001b[0m     \u001b[39mwith\u001b[39;00m \u001b[39mopen\u001b[39m(\u001b[39mself\u001b[39m\u001b[39m.\u001b[39m_file_path, readmode, errors\u001b[39m=\u001b[39m\u001b[39m'\u001b[39m\u001b[39mignore\u001b[39m\u001b[39m'\u001b[39m) \u001b[39mas\u001b[39;00m epwin:\n\u001b[0;32m    392\u001b[0m         \u001b[39m# import the header data to the object\u001b[39;00m\n",
      "File \u001b[1;32mc:\\Users\\Justin\\miniconda3\\envs\\lbt\\lib\\site-packages\\ladybug\\epw.py:546\u001b[0m, in \u001b[0;36mEPW._import_body\u001b[1;34m(self, body_lines)\u001b[0m\n\u001b[0;32m    544\u001b[0m             \u001b[39mexcept\u001b[39;00m \u001b[39mValueError\u001b[39;00m:\n\u001b[0;32m    545\u001b[0m                 msg \u001b[39m=\u001b[39m msg_template\u001b[39m.\u001b[39mformat(headers[field_number]\u001b[39m.\u001b[39mdata_type, x, e)\n\u001b[1;32m--> 546\u001b[0m                 \u001b[39mraise\u001b[39;00m \u001b[39mValueError\u001b[39;00m(msg)\n\u001b[0;32m    547\u001b[0m         \u001b[39mself\u001b[39m\u001b[39m.\u001b[39m_data[field_number]\u001b[39m.\u001b[39mappend(value)\n\u001b[0;32m    549\u001b[0m \u001b[39m# if the first value is at 1 AM, move last item to start position\u001b[39;00m\n",
      "\u001b[1;31mValueError\u001b[0m: Failed to parse EPW data for field \"Direct Normal Radiation\" at index 0.\ninvalid literal for int() with base 10: 'nan'"
     ]
    }
   ],
   "source": [
    "for vintage in vintages:\n",
    "    for year in years:\n",
    "        for scenario in scenarios:\n",
    "            for cz in cz_list:\n",
    "                for building_type in ['RefBldgMediumOffice','RefBldgMidriseApartment']:\n",
    "                    run_worfklow(project_root, 22,\n",
    "                                vintage, building_type,\n",
    "                                scenario, year, cz, rad_par,\n",
    "                                run_boolean=True)"
   ]
  },
  {
   "cell_type": "code",
   "execution_count": 16,
   "metadata": {},
   "outputs": [],
   "source": [
    "epw_file = r\"C:\\Users\\Justin\\Documents\\GitHub\\cmip6_and_buildings\\weather_files\\morphed\\1a\\ssp126\\EPWs\\ssp126_50_2020-2050.epw\"\n",
    "tmy = utils.tmy_to_dataframe(epw_file)"
   ]
  },
  {
   "cell_type": "code",
   "execution_count": 18,
   "metadata": {},
   "outputs": [],
   "source": [
    "e = epw.EPW(epw_file)"
   ]
  },
  {
   "cell_type": "code",
   "execution_count": 19,
   "metadata": {},
   "outputs": [
    {
     "ename": "ValueError",
     "evalue": "Failed to parse EPW data for field \"Direct Normal Radiation\" at index 0.\ninvalid literal for int() with base 10: 'nan'",
     "output_type": "error",
     "traceback": [
      "\u001b[1;31m---------------------------------------------------------------------------\u001b[0m",
      "\u001b[1;31mValueError\u001b[0m                                Traceback (most recent call last)",
      "File \u001b[1;32mc:\\Users\\Justin\\miniconda3\\envs\\lbt\\lib\\site-packages\\ladybug\\epw.py:536\u001b[0m, in \u001b[0;36mEPW._import_body\u001b[1;34m(self, body_lines)\u001b[0m\n\u001b[0;32m    535\u001b[0m \u001b[39mtry\u001b[39;00m:\n\u001b[1;32m--> 536\u001b[0m     value \u001b[39m=\u001b[39m value_type(data[field_number])\n\u001b[0;32m    537\u001b[0m \u001b[39mexcept\u001b[39;00m \u001b[39mValueError\u001b[39;00m \u001b[39mas\u001b[39;00m e:\n\u001b[0;32m    538\u001b[0m     \u001b[39m# failed to cast the data to the correct type\u001b[39;00m\n",
      "\u001b[1;31mValueError\u001b[0m: invalid literal for int() with base 10: 'nan'",
      "\nDuring handling of the above exception, another exception occurred:\n",
      "\u001b[1;31mValueError\u001b[0m                                Traceback (most recent call last)",
      "File \u001b[1;32mc:\\Users\\Justin\\miniconda3\\envs\\lbt\\lib\\site-packages\\ladybug\\epw.py:543\u001b[0m, in \u001b[0;36mEPW._import_body\u001b[1;34m(self, body_lines)\u001b[0m\n\u001b[0;32m    542\u001b[0m \u001b[39mtry\u001b[39;00m:\n\u001b[1;32m--> 543\u001b[0m     value \u001b[39m=\u001b[39m \u001b[39mint\u001b[39m(\u001b[39mround\u001b[39;49m(\u001b[39mfloat\u001b[39;49m(data[field_number])))\n\u001b[0;32m    544\u001b[0m \u001b[39mexcept\u001b[39;00m \u001b[39mValueError\u001b[39;00m:\n",
      "\u001b[1;31mValueError\u001b[0m: cannot convert float NaN to integer",
      "\nDuring handling of the above exception, another exception occurred:\n",
      "\u001b[1;31mValueError\u001b[0m                                Traceback (most recent call last)",
      "Cell \u001b[1;32mIn[19], line 1\u001b[0m\n\u001b[1;32m----> 1\u001b[0m e\u001b[39m.\u001b[39;49mdirect_normal_radiation\n",
      "File \u001b[1;32mc:\\Users\\Justin\\miniconda3\\envs\\lbt\\lib\\site-packages\\ladybug\\epw.py:1032\u001b[0m, in \u001b[0;36mEPW.direct_normal_radiation\u001b[1;34m(self)\u001b[0m\n\u001b[0;32m   1022\u001b[0m \u001b[39m@property\u001b[39m\n\u001b[0;32m   1023\u001b[0m \u001b[39mdef\u001b[39;00m \u001b[39mdirect_normal_radiation\u001b[39m(\u001b[39mself\u001b[39m):\n\u001b[0;32m   1024\u001b[0m     \u001b[39m\"\"\"Return annual Direct Normal Radiation as a Ladybug Data Collection.\u001b[39;00m\n\u001b[0;32m   1025\u001b[0m \n\u001b[0;32m   1026\u001b[0m \u001b[39m    This is the Direct Normal Radiation in Wh/m2. (Amount of solar radiation in\u001b[39;00m\n\u001b[1;32m   (...)\u001b[0m\n\u001b[0;32m   1030\u001b[0m \u001b[39m    missing values are totaled and presented at the end of the runperiod.\u001b[39;00m\n\u001b[0;32m   1031\u001b[0m \u001b[39m    \"\"\"\u001b[39;00m\n\u001b[1;32m-> 1032\u001b[0m     \u001b[39mreturn\u001b[39;00m \u001b[39mself\u001b[39;49m\u001b[39m.\u001b[39;49m_get_data_by_field(\u001b[39m14\u001b[39;49m)\n",
      "File \u001b[1;32mc:\\Users\\Justin\\miniconda3\\envs\\lbt\\lib\\site-packages\\ladybug\\epw.py:873\u001b[0m, in \u001b[0;36mEPW._get_data_by_field\u001b[1;34m(self, field_number)\u001b[0m\n\u001b[0;32m    860\u001b[0m \u001b[39m\"\"\"Return a data field by field number.\u001b[39;00m\n\u001b[0;32m    861\u001b[0m \n\u001b[0;32m    862\u001b[0m \u001b[39mThis is a useful method to get the values for fields that Ladybug\u001b[39;00m\n\u001b[1;32m   (...)\u001b[0m\n\u001b[0;32m    870\u001b[0m \u001b[39m    An annual Ladybug list\u001b[39;00m\n\u001b[0;32m    871\u001b[0m \u001b[39m\"\"\"\u001b[39;00m\n\u001b[0;32m    872\u001b[0m \u001b[39mif\u001b[39;00m \u001b[39mnot\u001b[39;00m \u001b[39mself\u001b[39m\u001b[39m.\u001b[39mis_data_loaded:\n\u001b[1;32m--> 873\u001b[0m     \u001b[39mself\u001b[39;49m\u001b[39m.\u001b[39;49m_import_data()\n\u001b[0;32m    875\u001b[0m \u001b[39m# check input data\u001b[39;00m\n\u001b[0;32m    876\u001b[0m \u001b[39mif\u001b[39;00m \u001b[39mnot\u001b[39;00m \u001b[39m0\u001b[39m \u001b[39m<\u001b[39m\u001b[39m=\u001b[39m field_number \u001b[39m<\u001b[39m \u001b[39mself\u001b[39m\u001b[39m.\u001b[39m_num_of_fields:\n",
      "File \u001b[1;32mc:\\Users\\Justin\\miniconda3\\envs\\lbt\\lib\\site-packages\\ladybug\\epw.py:388\u001b[0m, in \u001b[0;36mEPW._import_data\u001b[1;34m(self, import_header_only)\u001b[0m\n\u001b[0;32m    386\u001b[0m             body_lines\u001b[39m.\u001b[39mappend(line)\n\u001b[0;32m    387\u001b[0m         \u001b[39mdel\u001b[39;00m body_lines[\u001b[39m-\u001b[39m\u001b[39m1\u001b[39m]  \u001b[39m# last line is a blank space\u001b[39;00m\n\u001b[1;32m--> 388\u001b[0m         \u001b[39mself\u001b[39;49m\u001b[39m.\u001b[39;49m_import_body(body_lines)\n\u001b[0;32m    389\u001b[0m \u001b[39mexcept\u001b[39;00m \u001b[39mUnicodeDecodeError\u001b[39;00m:  \u001b[39m# let's hope it's just latin characters\u001b[39;00m\n\u001b[0;32m    390\u001b[0m     \u001b[39m# TODO: do a better job of trying to sense the encoding\u001b[39;00m\n\u001b[0;32m    391\u001b[0m     \u001b[39mwith\u001b[39;00m \u001b[39mopen\u001b[39m(\u001b[39mself\u001b[39m\u001b[39m.\u001b[39m_file_path, readmode, errors\u001b[39m=\u001b[39m\u001b[39m'\u001b[39m\u001b[39mignore\u001b[39m\u001b[39m'\u001b[39m) \u001b[39mas\u001b[39;00m epwin:\n\u001b[0;32m    392\u001b[0m         \u001b[39m# import the header data to the object\u001b[39;00m\n",
      "File \u001b[1;32mc:\\Users\\Justin\\miniconda3\\envs\\lbt\\lib\\site-packages\\ladybug\\epw.py:546\u001b[0m, in \u001b[0;36mEPW._import_body\u001b[1;34m(self, body_lines)\u001b[0m\n\u001b[0;32m    544\u001b[0m             \u001b[39mexcept\u001b[39;00m \u001b[39mValueError\u001b[39;00m:\n\u001b[0;32m    545\u001b[0m                 msg \u001b[39m=\u001b[39m msg_template\u001b[39m.\u001b[39mformat(headers[field_number]\u001b[39m.\u001b[39mdata_type, x, e)\n\u001b[1;32m--> 546\u001b[0m                 \u001b[39mraise\u001b[39;00m \u001b[39mValueError\u001b[39;00m(msg)\n\u001b[0;32m    547\u001b[0m         \u001b[39mself\u001b[39m\u001b[39m.\u001b[39m_data[field_number]\u001b[39m.\u001b[39mappend(value)\n\u001b[0;32m    549\u001b[0m \u001b[39m# if the first value is at 1 AM, move last item to start position\u001b[39;00m\n",
      "\u001b[1;31mValueError\u001b[0m: Failed to parse EPW data for field \"Direct Normal Radiation\" at index 0.\ninvalid literal for int() with base 10: 'nan'"
     ]
    }
   ],
   "source": [
    "e."
   ]
  }
 ],
 "metadata": {
  "kernelspec": {
   "display_name": "lbt",
   "language": "python",
   "name": "python3"
  },
  "language_info": {
   "codemirror_mode": {
    "name": "ipython",
    "version": 3
   },
   "file_extension": ".py",
   "mimetype": "text/x-python",
   "name": "python",
   "nbconvert_exporter": "python",
   "pygments_lexer": "ipython3",
   "version": "3.8.16"
  },
  "orig_nbformat": 4
 },
 "nbformat": 4,
 "nbformat_minor": 2
}
