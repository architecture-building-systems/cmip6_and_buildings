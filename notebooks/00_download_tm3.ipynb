{
 "cells": [
  {
   "cell_type": "code",
   "execution_count": 169,
   "metadata": {},
   "outputs": [],
   "source": [
    "import os \n",
    "import glob\n",
    "import pvlib\n",
    "from bs4 import BeautifulSoup as bs\n",
    "import re\n",
    "import requests\n",
    "import shutil\n",
    "import pandas as pd\n",
    "import proplot as ppl\n",
    "from epw import epw\n",
    "import sys\n",
    "from tzwhere import tzwhere\n",
    "import numpy as np\n",
    "import warnings\n",
    "warnings.filterwarnings(\"ignore\", category=np.VisibleDeprecationWarning)\n",
    "\n",
    "module_path = \"/Users/jmccarty/Data/221205_ipv_workbench/github/IPV_Workbench\"\n",
    "sys.path.insert(0, module_path)\n",
    "from ipv_workbench.utilities import utils"
   ]
  },
  {
   "attachments": {},
   "cell_type": "markdown",
   "metadata": {},
   "source": [
    "# download"
   ]
  },
  {
   "cell_type": "code",
   "execution_count": 26,
   "metadata": {},
   "outputs": [],
   "source": [
    "tmy2_files = glob.glob(os.path.join(\"/Users/jmccarty/Nextcloud/Projects/13_CISBAT23_idf/tmy2\",\"*.epw\"))"
   ]
  },
  {
   "cell_type": "code",
   "execution_count": 38,
   "metadata": {},
   "outputs": [],
   "source": [
    "wmo_code_dict = {}\n",
    "\n",
    "for fname in tmy2_files:\n",
    "    with open(fname, \"r\") as fp:\n",
    "        cz = fname.split(os.sep)[-1].split(\"_\")[0]\n",
    "        tmy2 = fp.readline()\n",
    "        wmo_code = tmy2.split(\",\")[5]\n",
    "        wmo_code_dict.update({wmo_code:cz})"
   ]
  },
  {
   "cell_type": "code",
   "execution_count": 39,
   "metadata": {},
   "outputs": [],
   "source": [
    "tmy_3_files = []\n",
    "\n",
    "for dir in glob.glob(os.path.join(\"/Users/jmccarty/Nextcloud/Projects/13_CISBAT23_idf/tmy3_init\",\"*\")):\n",
    "    tmy_3_files.append(glob.glob(os.path.join(dir,\"*.epw\")))\n",
    "    \n",
    "tmy_3_files = [item for sublist in tmy_3_files for item in sublist]\n"
   ]
  },
  {
   "cell_type": "code",
   "execution_count": 55,
   "metadata": {},
   "outputs": [
    {
     "name": "stdout",
     "output_type": "stream",
     "text": [
      "USA_CA_San_Francisco\n",
      "USA_MD_Baltimore-Washington_Intl\n",
      "USA_CA_Los_Angeles\n",
      "USA_NV_Las_Vegas-McCarran\n",
      "USA_MN_Minneapolis-St_Paul\n",
      "USA_TX_Houston-Bush_Intercontinental\n",
      "USA_IL_Chicago_OHare\n",
      "USA_AZ_Phoenix-Sky_Harbor\n",
      "USA_MT_Helena_Rgnl\n",
      "USA_NM_Albuquerque_Intl\n",
      "USA_FL_Miami_Intl\n",
      "USA_CO_Boulder-Table_Mountain\n",
      "USA_GA_Atlanta-Hartsfield-Jackson_Intl\n",
      "USA_MN_Duluth_Intl\n",
      "USA_AK_Fairbanks_Intl\n",
      "USA_WA_Seattle-Tacoma_Intl\n"
     ]
    }
   ],
   "source": [
    "for fname in tmy_3_files:\n",
    "    fname_elements = fname.split(os.sep)[-1].split(\".\")\n",
    "    city = (\"_\").join(fname_elements[0:2])\n",
    "    print(city)\n",
    "    wmo_code = fname_elements[-2].split(\"_\")[0]\n",
    "    cz = wmo_code_dict[str(wmo_code)]\n",
    "    dst = os.path.join(\"/Users/jmccarty/Nextcloud/Projects/13_CISBAT23_idf/tmy3\",f\"{cz.lower()}_{city}.epw\")\n",
    "    shutil.copy(fname,dst)"
   ]
  },
  {
   "attachments": {},
   "cell_type": "markdown",
   "metadata": {},
   "source": [
    "# clean dni"
   ]
  },
  {
   "cell_type": "code",
   "execution_count": 176,
   "metadata": {},
   "outputs": [],
   "source": [
    "\n",
    "def calc_irrad_profile(location_dict, df):\n",
    "    solarpos = pvlib.solarposition.get_solarposition(\n",
    "        df.index.shift(freq=\"-30T\"), latitude=location_dict['lat'],\n",
    "        longitude=location_dict['lon'], altitude=location_dict['elevation'],\n",
    "        pressure=df['atmos_Pa'],  # convert from millibar to Pa\n",
    "        temperature=df['drybulb_C'])\n",
    "    solarpos.index = df.index  # reset index to end of the hour\n",
    "\n",
    "    out_disc = pvlib.irradiance.disc(df['glohorrad_Whm2'], \n",
    "                                     solarpos.zenith, \n",
    "                                     df.index, \n",
    "                                     df['atmos_Pa'])\n",
    "    df_complete = pvlib.irradiance.complete_irradiance(solar_zenith=solarpos.apparent_zenith,\n",
    "                                                   ghi=df['glohorrad_Whm2'],\n",
    "                                                   dni=out_disc.dni,\n",
    "                                                   dhi=None#df['difhorrad_Whm2']\n",
    "                                                   )\n",
    "    out_disc = out_disc.rename(columns={'dni': 'dni_disc'})\n",
    "    out_disc['dhi_disc'] = df_complete.dhi\n",
    "\n",
    "    return df_complete, out_disc\n",
    "\n",
    "\n",
    "def out_epw(epw_object,file_path):\n",
    "    epw_object.write(file_path)\n"
   ]
  },
  {
   "cell_type": "code",
   "execution_count": 175,
   "metadata": {},
   "outputs": [
    {
     "data": {
      "text/plain": [
       "'/Users/jmccarty/GitHub/cmip6_and_buildings/weather_files/tmy3_corrected/3bc_USA_CA_Los_Angeles.epw'"
      ]
     },
     "execution_count": 175,
     "metadata": {},
     "output_type": "execute_result"
    }
   ],
   "source": []
  },
  {
   "cell_type": "code",
   "execution_count": 177,
   "metadata": {},
   "outputs": [],
   "source": [
    "tmy3_epw_files = glob.glob(os.path.join(\"/Users/jmccarty/GitHub/cmip6_and_buildings/weather_files/tmy3\",\"*.epw\"))\n",
    "\n",
    "for fname in tmy3_epw_files:\n",
    "    base_epw = epw()\n",
    "    base_epw.read(fname)\n",
    "    location = utils.tmy_location(fname)\n",
    "    epw_df = utils.tmy_to_dataframe(fname)\n",
    "    tz = tzwhere.tzwhere(forceTZ=True)\n",
    "    timezone = tz.tzNameAt(location['lat'], location['lon'], forceTZ=True)\n",
    "    if location['utc']<0:\n",
    "        epw_df.index = epw_df.index.tz_localize(\"UTC\").tz_convert(timezone) + pd.Timedelta(hours=abs(location['utc']))\n",
    "    else:\n",
    "        epw_df.index = epw_df.index.tz_localize(\"UTC\").tz_convert(timezone) - pd.Timedelta(hours=location['utc'])\n",
    "    new_solar, disc = calc_irrad_profile(location, epw_df)\n",
    "    base_epw_df = base_epw.dataframe\n",
    "    base_epw_df['Direct Normal Radiation'] = new_solar['dni'].fillna(0).values\n",
    "    base_epw_df['Diffuse Horizontal Radiation'] = new_solar['dhi'].fillna(0).values\n",
    "    base_epw_df['Global Horizontal Radiation'] = new_solar['ghi'].fillna(0).values\n",
    "\n",
    "    dst_name = fname.replace('tmy3','tmy3_corrected')\n",
    "    out_epw(base_epw, dst_name)"
   ]
  }
 ],
 "metadata": {
  "kernelspec": {
   "display_name": "workbench",
   "language": "python",
   "name": "python3"
  },
  "language_info": {
   "codemirror_mode": {
    "name": "ipython",
    "version": 3
   },
   "file_extension": ".py",
   "mimetype": "text/x-python",
   "name": "python",
   "nbconvert_exporter": "python",
   "pygments_lexer": "ipython3",
   "version": "3.10.8"
  },
  "orig_nbformat": 4,
  "vscode": {
   "interpreter": {
    "hash": "0c4ac59e349d62c65843c6e7b303fbe6191f8771b8af55365501989d28e04afb"
   }
  }
 },
 "nbformat": 4,
 "nbformat_minor": 2
}
