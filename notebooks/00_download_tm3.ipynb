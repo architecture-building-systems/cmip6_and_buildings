{
 "cells": [
  {
   "cell_type": "code",
   "execution_count": 56,
   "metadata": {},
   "outputs": [],
   "source": [
    "import os \n",
    "import glob\n",
    "import pvlib\n",
    "from bs4 import BeautifulSoup as bs\n",
    "import re\n",
    "import requests\n",
    "import shutil\n",
    "import pandas as pd\n",
    "import proplot as ppl"
   ]
  },
  {
   "cell_type": "code",
   "execution_count": 26,
   "metadata": {},
   "outputs": [],
   "source": [
    "tmy2_files = glob.glob(os.path.join(\"/Users/jmccarty/Nextcloud/Projects/13_CISBAT23_idf/tmy2\",\"*.epw\"))"
   ]
  },
  {
   "cell_type": "code",
   "execution_count": 38,
   "metadata": {},
   "outputs": [],
   "source": [
    "wmo_code_dict = {}\n",
    "\n",
    "for fname in tmy2_files:\n",
    "    with open(fname, \"r\") as fp:\n",
    "        cz = fname.split(os.sep)[-1].split(\"_\")[0]\n",
    "        tmy2 = fp.readline()\n",
    "        wmo_code = tmy2.split(\",\")[5]\n",
    "        wmo_code_dict.update({wmo_code:cz})"
   ]
  },
  {
   "cell_type": "code",
   "execution_count": 39,
   "metadata": {},
   "outputs": [],
   "source": [
    "tmy_3_files = []\n",
    "\n",
    "for dir in glob.glob(os.path.join(\"/Users/jmccarty/Nextcloud/Projects/13_CISBAT23_idf/tmy3_init\",\"*\")):\n",
    "    tmy_3_files.append(glob.glob(os.path.join(dir,\"*.epw\")))\n",
    "    \n",
    "tmy_3_files = [item for sublist in tmy_3_files for item in sublist]\n"
   ]
  },
  {
   "cell_type": "code",
   "execution_count": 55,
   "metadata": {},
   "outputs": [
    {
     "name": "stdout",
     "output_type": "stream",
     "text": [
      "USA_CA_San_Francisco\n",
      "USA_MD_Baltimore-Washington_Intl\n",
      "USA_CA_Los_Angeles\n",
      "USA_NV_Las_Vegas-McCarran\n",
      "USA_MN_Minneapolis-St_Paul\n",
      "USA_TX_Houston-Bush_Intercontinental\n",
      "USA_IL_Chicago_OHare\n",
      "USA_AZ_Phoenix-Sky_Harbor\n",
      "USA_MT_Helena_Rgnl\n",
      "USA_NM_Albuquerque_Intl\n",
      "USA_FL_Miami_Intl\n",
      "USA_CO_Boulder-Table_Mountain\n",
      "USA_GA_Atlanta-Hartsfield-Jackson_Intl\n",
      "USA_MN_Duluth_Intl\n",
      "USA_AK_Fairbanks_Intl\n",
      "USA_WA_Seattle-Tacoma_Intl\n"
     ]
    }
   ],
   "source": [
    "for fname in tmy_3_files:\n",
    "    fname_elements = fname.split(os.sep)[-1].split(\".\")\n",
    "    city = (\"_\").join(fname_elements[0:2])\n",
    "    print(city)\n",
    "    wmo_code = fname_elements[-2].split(\"_\")[0]\n",
    "    cz = wmo_code_dict[str(wmo_code)]\n",
    "    dst = os.path.join(\"/Users/jmccarty/Nextcloud/Projects/13_CISBAT23_idf/tmy3\",f\"{cz.lower()}_{city}.epw\")\n",
    "    shutil.copy(fname,dst)"
   ]
  }
 ],
 "metadata": {
  "kernelspec": {
   "display_name": "S2S",
   "language": "python",
   "name": "python3"
  },
  "language_info": {
   "codemirror_mode": {
    "name": "ipython",
    "version": 3
   },
   "file_extension": ".py",
   "mimetype": "text/x-python",
   "name": "python",
   "nbconvert_exporter": "python",
   "pygments_lexer": "ipython3",
   "version": "3.9.9"
  },
  "orig_nbformat": 4,
  "vscode": {
   "interpreter": {
    "hash": "ff5f7246f2456edc6cd3660e8561fd3d176d359518373b1a03f8d5a6e9542385"
   }
  }
 },
 "nbformat": 4,
 "nbformat_minor": 2
}
